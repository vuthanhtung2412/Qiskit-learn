{
 "cells": [
  {
   "cell_type": "markdown",
   "metadata": {},
   "source": [
    "# Variational Quantum Eigensolver (VQE)\n",
    "# Subspace Search VQE (SSVQE)\n",
    "\n",
    "SSVQE is a variant of VQE that allows obtaining the first k eigenvalues of an H observable with eigenvalues.\n",
    "\n",
    "# Variational Quantum Deflation (VQD)\n",
    "\n",
    "VQD is an iterative method that extends VQE to obtain the first k eigenvalues of an observable H with n eigenvalues, instead of only the first one.\n",
    "\n",
    "beta must be large enough to enforce orthogonality.\n",
    "\n",
    "# Quantum Sampling Regression (QSR)\n",
    "\n",
    "The idea behind QSR is that the cost function can be expressed as a Fourier series\n",
    "\n",
    "Classically simulate Hamiltonian then solve it on a classical machine "
   ]
  }
 ],
 "metadata": {
  "language_info": {
   "name": "python"
  },
  "orig_nbformat": 4
 },
 "nbformat": 4,
 "nbformat_minor": 2
}
