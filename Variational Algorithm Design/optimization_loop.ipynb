{
 "cells": [
  {
   "cell_type": "markdown",
   "metadata": {},
   "source": [
    "# Avoiding Barren plateaus\n",
    "\n",
    "recommendations to improve optimization performance:\n",
    "\n",
    "+ **Bootstrapping** can help the optimization loop avoid getting stuck in a parameter space where the gradient is small.\n",
    "+ **Experimenting with hardware-efficient ansatz:** Since we're using a noisy quantum system as a black-box oracle, the quality of those evaluations can affect the optimizer's performance. Using hardware-efficient ansatz, such as [EfficientSU2](https://qiskit.org/documentation/stubs/qiskit.circuit.library.EfficientSU2.html), may avoid producing exponentially small gradients.\n",
    "+ **Experimenting with error suppression and error mitigation:** the Qiskit Runtime primitives provide a simple interface to experiment with various optimization_levels and resilience_settings respectively. This can reduce the impact of noise and make the optimization process more efficient.\n",
    "+ **Experimenting with gradient-free optimizers:** Unlike gradient-based optimization algorithms, optimizers such as [COBYLA](https://qiskit.org/documentation/stubs/qiskit.algorithms.optimizers.COBYLA.html#qiskit.algorithms.optimizers.COBYLA) do not rely on gradient information to optimize the parameters and are therefore less likely to be affected by the barren plateau."
   ]
  }
 ],
 "metadata": {
  "kernelspec": {
   "display_name": "qiskit",
   "language": "python",
   "name": "python3"
  },
  "language_info": {
   "name": "python",
   "version": "3.10.12"
  },
  "orig_nbformat": 4
 },
 "nbformat": 4,
 "nbformat_minor": 2
}
