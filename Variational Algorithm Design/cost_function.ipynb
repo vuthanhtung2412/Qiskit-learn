{
 "cells": [
  {
   "cell_type": "code",
   "execution_count": 1,
   "metadata": {},
   "outputs": [
    {
     "name": "stdout",
     "output_type": "stream",
     "text": [
      "Original circuit:\n"
     ]
    },
    {
     "data": {
      "image/png": "[encoded data removed]",
      "text/plain": [
       "<Figure size 185.453x117.056 with 1 Axes>"
      ]
     },
     "metadata": {},
     "output_type": "display_data"
    },
    {
     "name": "stdout",
     "output_type": "stream",
     "text": [
      "Auxiliary circuit for X\n"
     ]
    },
    {
     "data": {
      "image/png": "[encoded data removed]",
      "text/plain": [
       "<Figure size 580.387x200.667 with 1 Axes>"
      ]
     },
     "metadata": {},
     "output_type": "display_data"
    },
    {
     "name": "stdout",
     "output_type": "stream",
     "text": [
      "Auxiliary circuit for Z\n"
     ]
    },
    {
     "data": {
      "image/png": "[encoded data removed]",
      "text/plain": [
       "<Figure size 580.387x200.667 with 1 Axes>"
      ]
     },
     "metadata": {},
     "output_type": "display_data"
    }
   ],
   "source": [
    "from qiskit import QuantumCircuit\n",
    "from qiskit.quantum_info import SparsePauliOp\n",
    "\n",
    "# The following code will work for any other initial single-qubit state and observable\n",
    "original_circuit = QuantumCircuit(1)\n",
    "original_circuit.h(0)\n",
    "\n",
    "H = SparsePauliOp([\"X\", \"Z\"], [2, -1])\n",
    "\n",
    "aux_circuits = []\n",
    "for pauli in H.paulis:\n",
    "    aux_circ = original_circuit.copy()\n",
    "    aux_circ.barrier()\n",
    "    if str(pauli) == \"X\":\n",
    "        aux_circ.h(0)\n",
    "    elif str(pauli) == \"Y\":\n",
    "        aux_circ.sdg(0)\n",
    "        aux_circ.h(0)\n",
    "    else:\n",
    "        aux_circ.i(0)\n",
    "    aux_circ.measure_all()\n",
    "    aux_circuits.append(aux_circ)\n",
    "\n",
    "\n",
    "print(\"Original circuit:\")\n",
    "display(original_circuit.draw(\"mpl\"))\n",
    "for (circuit, pauli) in zip(aux_circuits, H.paulis):\n",
    "    print(f\"Auxiliary circuit for {str(pauli)}\")\n",
    "    display(circuit.draw(\"mpl\"))"
   ]
  },
  {
   "cell_type": "code",
   "execution_count": 2,
   "metadata": {},
   "outputs": [
    {
     "name": "stdout",
     "output_type": "stream",
     "text": [
      "Sampler results:\n",
      "  >> Expected value of X: 1.00000\n",
      "  >> Expected value of Z: 0.00000\n",
      "  >> Total expected value: 1.00000\n",
      "   ┌───┐\n",
      "q: ┤ H ├\n",
      "   └───┘\n",
      "[Pauli('X'), Pauli('Z'), SparsePauliOp(['X', 'Z'],\n",
      "              coeffs=[ 2.+0.j, -1.+0.j])]\n",
      "Estimator results:\n",
      "  >> Expected value of X: 1.00000\n",
      "  >> Expected value of Z: 0.00000\n",
      "  >> Total expected value: 2.00000\n"
     ]
    }
   ],
   "source": [
    "from qiskit.primitives import Sampler, Estimator\n",
    "from qiskit.circuit.library import IGate, ZGate\n",
    "import numpy as np\n",
    "\n",
    "\n",
    "## SAMPLER\n",
    "sampler = Sampler()\n",
    "job = sampler.run(aux_circuits)\n",
    "probability_dists = job.result().quasi_dists\n",
    "probability_dists = [np.array([[dist.get(0,0), dist.get(1,0)]]) for dist in probability_dists]\n",
    "\n",
    "expvals = []\n",
    "for dist, pauli in zip(probability_dists, H.paulis):\n",
    "    val = 0\n",
    "    if str(pauli) == \"I\":\n",
    "        Lambda = IGate().to_matrix().real\n",
    "    else:\n",
    "        Lambda = ZGate().to_matrix().real\n",
    "    val += dist @ Lambda @ dist.transpose()\n",
    "    expvals.append(val)\n",
    "\n",
    "\n",
    "print(\"Sampler results:\")\n",
    "for (pauli, expval) in zip(H.paulis, expvals):\n",
    "    print(f\"  >> Expected value of {str(pauli)}: {expval.item():.5f}\")\n",
    "\n",
    "total_expval = np.sum(H.coeffs * expvals).real\n",
    "print(f\"  >> Total expected value: {total_expval:.5f}\")\n",
    "\n",
    "\n",
    "## ESTIMATOR\n",
    "observables = [\n",
    "    *H.paulis,\n",
    "    H,\n",
    "]  # Note: run for individual Paulis as well as full observable H\n",
    "\n",
    "estimator = Estimator()\n",
    "print(original_circuit)\n",
    "print(observables)\n",
    "job = estimator.run([original_circuit] * len(observables), observables)\n",
    "# prepare in reference state for every observables in the list \"observables\"\n",
    "estimator_expvals = job.result().values\n",
    "\n",
    "print(\"Estimator results:\")\n",
    "for (obs, expval) in zip(observables, estimator_expvals):\n",
    "    if obs is not H:\n",
    "        print(f\"  >> Expected value of {str(obs)}: {expval:.5f}\")\n",
    "    else:\n",
    "        print(f\"  >> Total expected value: {expval:.5f}\")"
   ]
  },
  {
   "cell_type": "markdown",
   "metadata": {},
   "source": [
    "## Overhead of realizing circuit on quantum hardwware\n",
    "\n",
    "### [Error supression (Compilation)](https://qiskit.org/ecosystem/ibm-runtime/how_to/error-suppression.html)\n",
    "\n",
    "+ Expressing the circuit using the native gates available on a quantum system\n",
    "+ Mapping the virtual qubits to physical qubits\n",
    "+ Adding SWAPs based on connectivity requirements\n",
    "+ Optimizing 1Q and 2Q gates\n",
    "+ Adding dynamical decoupling to idle qubits to prevent the effects of decoherence.\n",
    "\n",
    "Primitives allow for the use of error suppression techniques by setting the optimization_level option and selecting advanced transpilation options.\n",
    "\n",
    "Primitives (qiskit.primitives) are core functions that make it easier to build modular algorithms and applications. \n",
    "\n",
    "### [Error mitigation (execution)](https://qiskit.org/ecosystem/ibm-runtime/how_to/error-mitigation.html)\n",
    "\n",
    "Error mitigation techniques allow users to mitigate circuit errors by modeling the device noise at the time of execution. This typically results in quantum pre-processing overhead related to model training and classical post-processing overhead to mitigate errors in the raw results by using the generated model.\n",
    "\n",
    "List of error mitigation techniques :\n",
    "+ Twirled readout error extinction (T-REx)\n",
    "+ Zero noise extrapolation\n",
    "+ Probabilistic error cancellation\n"
   ]
  }
 ],
 "metadata": {
  "kernelspec": {
   "display_name": "qiskit",
   "language": "python",
   "name": "python3"
  },
  "language_info": {
   "codemirror_mode": {
    "name": "ipython",
    "version": 3
   },
   "file_extension": ".py",
   "mimetype": "text/x-python",
   "name": "python",
   "nbconvert_exporter": "python",
   "pygments_lexer": "ipython3",
   "version": "3.10.12"
  },
  "orig_nbformat": 4
 },
 "nbformat": 4,
 "nbformat_minor": 2
}
