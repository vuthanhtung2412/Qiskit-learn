{
 "cells": [
  {
   "cell_type": "markdown",
   "metadata": {},
   "source": [
    "# Training parameterized quantum circuits\n",
    "\n",
    "## Vocab\n",
    "+ Minimize <phi(theta)|H|phi(theta)> (this is the loss function)\n",
    "+ Quantum Fisher Information (Natural Gradients)\n",
    "+ Simultaneous Perturbation Stochastic Approximation"
   ]
  },
  {
   "cell_type": "code",
   "execution_count": 1,
   "metadata": {},
   "outputs": [
    {
     "name": "stdout",
     "output_type": "stream",
     "text": [
      "     ┌──────────────────────────────────────┐\n",
      "q_0: ┤0                                     ├\n",
      "     │  RealAmplitudes(θ[0],θ[1],θ[2],θ[3]) │\n",
      "q_1: ┤1                                     ├\n",
      "     └──────────────────────────────────────┘\n"
     ]
    },
    {
     "data": {
      "text/html": [
       "<pre style=\"word-wrap: normal;white-space: pre;background: #fff0;line-height: 1.1;font-family: &quot;Courier New&quot;,Courier,monospace\">     ┌──────────┐     ┌──────────┐\n",
       "q_0: ┤ Ry(θ[0]) ├──■──┤ Ry(θ[2]) ├\n",
       "     ├──────────┤┌─┴─┐├──────────┤\n",
       "q_1: ┤ Ry(θ[1]) ├┤ X ├┤ Ry(θ[3]) ├\n",
       "     └──────────┘└───┘└──────────┘</pre>"
      ],
      "text/plain": [
       "     ┌──────────┐     ┌──────────┐\n",
       "q_0: ┤ Ry(θ[0]) ├──■──┤ Ry(θ[2]) ├\n",
       "     ├──────────┤┌─┴─┐├──────────┤\n",
       "q_1: ┤ Ry(θ[1]) ├┤ X ├┤ Ry(θ[3]) ├\n",
       "     └──────────┘└───┘└──────────┘"
      ]
     },
     "execution_count": 1,
     "metadata": {},
     "output_type": "execute_result"
    }
   ],
   "source": [
    "from qiskit.circuit.library import RealAmplitudes\n",
    "ansatz = RealAmplitudes(num_qubits=2, reps=1,\n",
    "                        entanglement='linear')\n",
    "# RealAmplitudes -> TwoLocal -> NLocal -> BlueprintCircuit -> QuantumCircuit\n",
    "print(ansatz.draw())\n",
    "ansatz = ansatz.decompose()\n",
    "ansatz.draw()"
   ]
  },
  {
   "cell_type": "markdown",
   "metadata": {},
   "source": [
    "## Calculate finite difference gradient\n",
    "### Opflow (deprecated)"
   ]
  },
  {
   "cell_type": "code",
   "execution_count": 2,
   "metadata": {},
   "outputs": [
    {
     "name": "stderr",
     "output_type": "stream",
     "text": [
      "C:\\Users\\vutha\\AppData\\Local\\Temp\\ipykernel_33344\\3630295614.py:4: DeprecationWarning: The ``qiskit.opflow`` module is deprecated as of qiskit-terra 0.24.0. It will be removed no earlier than 3 months after the release date. For code migration guidelines, visit https://qisk.it/opflow_migration.\n",
      "  from qiskit.opflow import PauliExpectation, CircuitSampler, StateFn, Z, I\n",
      "C:\\Users\\vutha\\AppData\\Local\\Temp\\ipykernel_33344\\3630295614.py:7: DeprecationWarning: The class ``qiskit.opflow.state_fns.operator_state_fn.OperatorStateFn`` is deprecated as of qiskit-terra 0.24.0. It will be removed no earlier than 3 months after the release date. For code migration guidelines, visit https://qisk.it/opflow_migration.\n",
      "  expectation = StateFn(hamiltonian, is_measurement=True) @ StateFn(ansatz)\n",
      "C:\\Users\\vutha\\AppData\\Local\\Temp\\ipykernel_33344\\3630295614.py:7: DeprecationWarning: The class ``qiskit.opflow.state_fns.circuit_state_fn.CircuitStateFn`` is deprecated as of qiskit-terra 0.24.0. It will be removed no earlier than 3 months after the release date. For code migration guidelines, visit https://qisk.it/opflow_migration.\n",
      "  expectation = StateFn(hamiltonian, is_measurement=True) @ StateFn(ansatz)\n",
      "C:\\Users\\vutha\\AppData\\Local\\Temp\\ipykernel_33344\\3630295614.py:8: DeprecationWarning: The class ``qiskit.opflow.expectations.pauli_expectation.PauliExpectation`` is deprecated as of qiskit-terra 0.24.0. It will be removed no earlier than 3 months after the release date. For code migration guidelines, visit https://qisk.it/opflow_migration.\n",
      "  pauli_basis = PauliExpectation().convert(expectation)\n",
      "C:\\Users\\vutha\\AppData\\Local\\Temp\\ipykernel_33344\\3630295614.py:10: DeprecationWarning: The class ``qiskit.utils.quantum_instance.QuantumInstance`` is deprecated as of qiskit-terra 0.24.0. It will be removed no earlier than 3 months after the release date. For code migration guidelines, visit https://qisk.it/qi_migration.\n",
      "  quantum_instance = QuantumInstance(Aer.get_backend('qasm_simulator'),\n",
      "C:\\Users\\vutha\\AppData\\Local\\Temp\\ipykernel_33344\\3630295614.py:14: DeprecationWarning: The class ``qiskit.opflow.converters.circuit_sampler.CircuitSampler`` is deprecated as of qiskit-terra 0.24.0. It will be removed no earlier than 3 months after the release date. For code migration guidelines, visit https://qisk.it/opflow_migration.\n",
      "  sampler = CircuitSampler(quantum_instance)\n"
     ]
    },
    {
     "name": "stdout",
     "output_type": "stream",
     "text": [
      "4\n",
      "[0. 0. 1. 0.]\n",
      "[0.69904579 0.83363198 0.44595015 0.72839291]\n",
      "[0.69904579 0.83363198 0.04595015 0.72839291]\n",
      "(0.30175781250000006+0j)\n",
      "(0.141357421875+0j)\n",
      "0.4010009765625001\n"
     ]
    }
   ],
   "source": [
    "import numpy as np\n",
    "from qiskit import Aer\n",
    "from qiskit.utils import QuantumInstance\n",
    "from qiskit.opflow import PauliExpectation, CircuitSampler, StateFn, Z, I\n",
    "\n",
    "hamiltonian = Z ^ Z\n",
    "expectation = StateFn(hamiltonian, is_measurement=True) @ StateFn(ansatz)\n",
    "pauli_basis = PauliExpectation().convert(expectation)\n",
    "\n",
    "quantum_instance = QuantumInstance(Aer.get_backend('qasm_simulator'),\n",
    "                                   # we'll set a seed for reproducibility\n",
    "                                   shots = 8192, seed_simulator = 2718,\n",
    "                                   seed_transpiler = 2718)\n",
    "sampler = CircuitSampler(quantum_instance)\n",
    "\n",
    "def evaluate_expectation(theta):\n",
    "    value_dict = dict(zip(ansatz.parameters, theta))\n",
    "    result = sampler.convert(pauli_basis, params=value_dict).eval()\n",
    "    print(result)\n",
    "    return np.real(result)\n",
    "\n",
    "print(ansatz.num_parameters)\n",
    "point = np.random.random(ansatz.num_parameters)\n",
    "INDEX = 2\n",
    "\n",
    "EPS = 0.2\n",
    "# make identity vector with a 1 at index ``INDEX``, otherwise 0\n",
    "e_i = np.identity(point.size)[:, INDEX]\n",
    "print(e_i)\n",
    "\n",
    "plus = point + EPS * e_i\n",
    "minus = point - EPS * e_i\n",
    "\n",
    "print(plus)\n",
    "print(minus)\n",
    "\n",
    "finite_difference = (\n",
    "    evaluate_expectation(plus) - evaluate_expectation(minus)) / (2 * EPS)\n",
    "print(finite_difference)"
   ]
  },
  {
   "cell_type": "markdown",
   "metadata": {},
   "source": [
    "### Quantum_info and primitives"
   ]
  },
  {
   "cell_type": "code",
   "execution_count": 3,
   "metadata": {},
   "outputs": [
    {
     "name": "stdout",
     "output_type": "stream",
     "text": [
      "[0. 0. 1. 0.]\n",
      "[0.70509724 0.3961315  1.13478115 0.34352652]\n",
      "[0.70509724 0.3961315  0.73478115 0.34352652]\n",
      "[0.5390625]\n",
      "[0.68164062]\n",
      "[-0.35644531]\n"
     ]
    }
   ],
   "source": [
    "from qiskit.quantum_info import Pauli\n",
    "from qiskit_aer.primitives import Estimator\n",
    "\n",
    "hamiltonian = Pauli('ZZ')\n",
    "\n",
    "estimator = Estimator()\n",
    "def evaluate_expectation(theta):\n",
    "    result = estimator.run(ansatz, hamiltonian, theta).result().values\n",
    "    print(result)\n",
    "    return np.real(result)\n",
    "\n",
    "point = np.random.random(ansatz.num_parameters)\n",
    "INDEX = 2\n",
    "\n",
    "EPS = 0.2\n",
    "# make identity vector with a 1 at index ``INDEX``, otherwise 0\n",
    "e_i = np.identity(point.size)[:, INDEX]\n",
    "print(e_i)\n",
    "\n",
    "plus = point + EPS * e_i\n",
    "minus = point - EPS * e_i\n",
    "\n",
    "print(plus)\n",
    "print(minus)\n",
    "\n",
    "finite_difference = (\n",
    "    evaluate_expectation(plus) - evaluate_expectation(minus)) / (2 * EPS)\n",
    "print(finite_difference)"
   ]
  },
  {
   "cell_type": "markdown",
   "metadata": {},
   "source": [
    "### Nghich Quantum_info and primitives"
   ]
  },
  {
   "cell_type": "code",
   "execution_count": 4,
   "metadata": {},
   "outputs": [
    {
     "name": "stdout",
     "output_type": "stream",
     "text": [
      "[1.         0.70710678]\n"
     ]
    }
   ],
   "source": [
    "from qiskit import QuantumCircuit\n",
    "from qiskit.primitives import Estimator\n",
    "from qiskit.quantum_info import SparsePauliOp\n",
    "from qiskit.quantum_info import Clifford\n",
    "\n",
    "X = SparsePauliOp(\"X\")\n",
    "\n",
    "qc = QuantumCircuit(1)\n",
    "qc.h(0)\n",
    "H = Clifford(qc).to_operator()\n",
    "\n",
    "plus = QuantumCircuit(1)\n",
    "plus.h(0)\n",
    "\n",
    "estimator = Estimator()\n",
    "values_plus = estimator.run([plus, plus], [X, H]).result().values\n",
    "\n",
    "print(values_plus)"
   ]
  },
  {
   "cell_type": "markdown",
   "metadata": {},
   "source": [
    "## Calculate with Qiskit gradient\n",
    "\n",
    "### opflow (soon Deprecated)"
   ]
  },
  {
   "cell_type": "code",
   "execution_count": 11,
   "metadata": {},
   "outputs": [
    {
     "name": "stderr",
     "output_type": "stream",
     "text": [
      "C:\\Users\\vutha\\AppData\\Local\\Temp\\ipykernel_33344\\263876192.py:3: DeprecationWarning: The class ``qiskit.opflow.gradients.gradient.Gradient`` is deprecated as of qiskit-terra 0.24.0. It will be removed no earlier than 3 months after the release date. For code migration guidelines, visit https://qisk.it/opflow_migration.\n",
      "  shifter = Gradient('fin_diff', analytic=False, epsilon=EPS)\n"
     ]
    },
    {
     "name": "stdout",
     "output_type": "stream",
     "text": [
      "SummedOp([\n",
      "  2.5 * ComposedOp([\n",
      "    OperatorMeasurement(ZZ),\n",
      "    CircuitStateFn(\n",
      "         ┌──────────┐     ┌────────────────┐\n",
      "    q_0: ┤ Ry(θ[0]) ├──■──┤ Ry(θ[2] + 0.2) ├\n",
      "         ├──────────┤┌─┴─┐└──┬──────────┬──┘\n",
      "    q_1: ┤ Ry(θ[1]) ├┤ X ├───┤ Ry(θ[3]) ├───\n",
      "         └──────────┘└───┘   └──────────┘   \n",
      "    )\n",
      "  ]),\n",
      "  -2.5 * ComposedOp([\n",
      "    OperatorMeasurement(ZZ),\n",
      "    CircuitStateFn(\n",
      "         ┌──────────┐     ┌────────────────┐\n",
      "    q_0: ┤ Ry(θ[0]) ├──■──┤ Ry(θ[2] - 0.2) ├\n",
      "         ├──────────┤┌─┴─┐└──┬──────────┬──┘\n",
      "    q_1: ┤ Ry(θ[1]) ├┤ X ├───┤ Ry(θ[3]) ├───\n",
      "         └──────────┘└───┘   └──────────┘   \n",
      "    )\n",
      "  ])\n",
      "])\n",
      "{ParameterVectorElement(θ[0]): 0.5456158771636148, ParameterVectorElement(θ[1]): 0.5306634836965907, ParameterVectorElement(θ[2]): 0.8753439889577473, ParameterVectorElement(θ[3]): 0.8250821839579529}\n"
     ]
    },
    {
     "data": {
      "text/plain": [
       "0.04760742187499978"
      ]
     },
     "execution_count": 11,
     "metadata": {},
     "output_type": "execute_result"
    }
   ],
   "source": [
    "from qiskit.opflow import Gradient\n",
    "\n",
    "shifter = Gradient('fin_diff', analytic=False, epsilon=EPS)\n",
    "grad = shifter.convert(expectation, params=ansatz.parameters[INDEX])\n",
    "print(grad)\n",
    "\n",
    "value_dict = dict(zip(ansatz.parameters, point))\n",
    "print(value_dict)\n",
    "sampler.convert(grad, value_dict).eval().real"
   ]
  },
  {
   "cell_type": "markdown",
   "metadata": {},
   "source": [
    "### Quantum_info and primitives"
   ]
  },
  {
   "cell_type": "code",
   "execution_count": 23,
   "metadata": {},
   "outputs": [
    {
     "name": "stdout",
     "output_type": "stream",
     "text": [
      "     ┌──────────┐     ┌──────────┐\n",
      "q_0: ┤ Ry(θ[0]) ├──■──┤ Ry(θ[2]) ├\n",
      "     ├──────────┤┌─┴─┐├──────────┤\n",
      "q_1: ┤ Ry(θ[1]) ├┤ X ├┤ Ry(θ[3]) ├\n",
      "     └──────────┘└───┘└──────────┘\n",
      "ZZ\n",
      "[0.54561588 0.53066348 0.87534399 0.82508218]\n",
      "EstimatorGradientResult(gradients=[array([ 0.60573443, -0.56703284,  0.03897645, -0.32369708])], metadata=[{'parameters': ParameterView([ParameterVectorElement(θ[0]), ParameterVectorElement(θ[1]), ParameterVectorElement(θ[2]), ParameterVectorElement(θ[3])])}], options=Options())\n",
      "[array([ 0.60573443, -0.56703284,  0.03897645, -0.32369708])]\n"
     ]
    }
   ],
   "source": [
    "from qiskit_algorithms.gradients import ParamShiftEstimatorGradient\n",
    "\n",
    "grad = ParamShiftEstimatorGradient(estimator)\n",
    "\n",
    "print(ansatz)\n",
    "print(hamiltonian)\n",
    "print(point)\n",
    "\n",
    "result = grad.run(ansatz, hamiltonian,[point]).result()\n",
    "# print(result)\n",
    "\n",
    "gradients = result.gradients\n",
    "print(gradients)"
   ]
  },
  {
   "cell_type": "markdown",
   "metadata": {},
   "source": [
    "# Analytic gradients"
   ]
  }
 ],
 "metadata": {
  "kernelspec": {
   "display_name": "qiskit",
   "language": "python",
   "name": "python3"
  },
  "language_info": {
   "codemirror_mode": {
    "name": "ipython",
    "version": 3
   },
   "file_extension": ".py",
   "mimetype": "text/x-python",
   "name": "python",
   "nbconvert_exporter": "python",
   "pygments_lexer": "ipython3",
   "version": "3.10.12"
  },
  "orig_nbformat": 4
 },
 "nbformat": 4,
 "nbformat_minor": 2
}
