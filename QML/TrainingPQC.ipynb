{
 "cells": [
  {
   "cell_type": "markdown",
   "metadata": {},
   "source": [
    "# Training parameterized quantum circuits\n",
    "\n",
    "## Vocab\n",
    "+ Minimize <phi(theta)|H|phi(theta)> (this is the loss function)\n",
    "+ Quantum Fisher Information (Natural Gradients)\n",
    "+ Simultaneous Perturbation Stochastic Approximation"
   ]
  },
  {
   "cell_type": "code",
   "execution_count": 1,
   "metadata": {},
   "outputs": [
    {
     "name": "stdout",
     "output_type": "stream",
     "text": [
      "     ┌──────────────────────────────────────┐\n",
      "q_0: ┤0                                     ├\n",
      "     │  RealAmplitudes(θ[0],θ[1],θ[2],θ[3]) │\n",
      "q_1: ┤1                                     ├\n",
      "     └──────────────────────────────────────┘\n"
     ]
    },
    {
     "data": {
      "text/html": [
       "<pre style=\"word-wrap: normal;white-space: pre;background: #fff0;line-height: 1.1;font-family: &quot;Courier New&quot;,Courier,monospace\">     ┌──────────┐     ┌──────────┐\n",
       "q_0: ┤ Ry(θ[0]) ├──■──┤ Ry(θ[2]) ├\n",
       "     ├──────────┤┌─┴─┐├──────────┤\n",
       "q_1: ┤ Ry(θ[1]) ├┤ X ├┤ Ry(θ[3]) ├\n",
       "     └──────────┘└───┘└──────────┘</pre>"
      ],
      "text/plain": [
       "     ┌──────────┐     ┌──────────┐\n",
       "q_0: ┤ Ry(θ[0]) ├──■──┤ Ry(θ[2]) ├\n",
       "     ├──────────┤┌─┴─┐├──────────┤\n",
       "q_1: ┤ Ry(θ[1]) ├┤ X ├┤ Ry(θ[3]) ├\n",
       "     └──────────┘└───┘└──────────┘"
      ]
     },
     "execution_count": 1,
     "metadata": {},
     "output_type": "execute_result"
    }
   ],
   "source": [
    "from qiskit.circuit.library import RealAmplitudes\n",
    "ansatz = RealAmplitudes(num_qubits=2, reps=1,\n",
    "                        entanglement='linear')\n",
    "# RealAmplitudes -> TwoLocal -> NLocal -> BlueprintCircuit -> QuantumCircuit\n",
    "print(ansatz.draw())\n",
    "ansatz = ansatz.decompose()\n",
    "ansatz.draw()"
   ]
  },
  {
   "cell_type": "markdown",
   "metadata": {},
   "source": [
    "## Calculate finite difference gradient\n",
    "### Opflow (deprecated)"
   ]
  },
  {
   "cell_type": "code",
   "execution_count": 2,
   "metadata": {},
   "outputs": [
    {
     "name": "stderr",
     "output_type": "stream",
     "text": [
      "C:\\Users\\vutha\\AppData\\Local\\Temp\\ipykernel_24744\\3630295614.py:4: DeprecationWarning: The ``qiskit.opflow`` module is deprecated as of qiskit-terra 0.24.0. It will be removed no earlier than 3 months after the release date. For code migration guidelines, visit https://qisk.it/opflow_migration.\n",
      "  from qiskit.opflow import PauliExpectation, CircuitSampler, StateFn, Z, I\n",
      "C:\\Users\\vutha\\AppData\\Local\\Temp\\ipykernel_24744\\3630295614.py:7: DeprecationWarning: The class ``qiskit.opflow.state_fns.operator_state_fn.OperatorStateFn`` is deprecated as of qiskit-terra 0.24.0. It will be removed no earlier than 3 months after the release date. For code migration guidelines, visit https://qisk.it/opflow_migration.\n",
      "  expectation = StateFn(hamiltonian, is_measurement=True) @ StateFn(ansatz)\n",
      "C:\\Users\\vutha\\AppData\\Local\\Temp\\ipykernel_24744\\3630295614.py:7: DeprecationWarning: The class ``qiskit.opflow.state_fns.circuit_state_fn.CircuitStateFn`` is deprecated as of qiskit-terra 0.24.0. It will be removed no earlier than 3 months after the release date. For code migration guidelines, visit https://qisk.it/opflow_migration.\n",
      "  expectation = StateFn(hamiltonian, is_measurement=True) @ StateFn(ansatz)\n",
      "C:\\Users\\vutha\\AppData\\Local\\Temp\\ipykernel_24744\\3630295614.py:8: DeprecationWarning: The class ``qiskit.opflow.expectations.pauli_expectation.PauliExpectation`` is deprecated as of qiskit-terra 0.24.0. It will be removed no earlier than 3 months after the release date. For code migration guidelines, visit https://qisk.it/opflow_migration.\n",
      "  pauli_basis = PauliExpectation().convert(expectation)\n"
     ]
    },
    {
     "name": "stdout",
     "output_type": "stream",
     "text": [
      "4\n",
      "[0. 0. 1. 0.]\n",
      "[0.06030339 0.51559035 1.12619714 0.11859583]\n",
      "[0.06030339 0.51559035 0.72619714 0.11859583]\n",
      "(0.33642578125+0j)\n",
      "(0.5947265625+0j)\n",
      "-0.645751953125\n"
     ]
    },
    {
     "name": "stderr",
     "output_type": "stream",
     "text": [
      "C:\\Users\\vutha\\AppData\\Local\\Temp\\ipykernel_24744\\3630295614.py:10: DeprecationWarning: The class ``qiskit.utils.quantum_instance.QuantumInstance`` is deprecated as of qiskit-terra 0.24.0. It will be removed no earlier than 3 months after the release date. For code migration guidelines, visit https://qisk.it/qi_migration.\n",
      "  quantum_instance = QuantumInstance(Aer.get_backend('qasm_simulator'),\n",
      "C:\\Users\\vutha\\AppData\\Local\\Temp\\ipykernel_24744\\3630295614.py:14: DeprecationWarning: The class ``qiskit.opflow.converters.circuit_sampler.CircuitSampler`` is deprecated as of qiskit-terra 0.24.0. It will be removed no earlier than 3 months after the release date. For code migration guidelines, visit https://qisk.it/opflow_migration.\n",
      "  sampler = CircuitSampler(quantum_instance)\n"
     ]
    }
   ],
   "source": [
    "import numpy as np\n",
    "from qiskit import Aer\n",
    "from qiskit.utils import QuantumInstance\n",
    "from qiskit.opflow import PauliExpectation, CircuitSampler, StateFn, Z, I\n",
    "\n",
    "hamiltonian = Z ^ Z\n",
    "expectation = StateFn(hamiltonian, is_measurement=True) @ StateFn(ansatz)\n",
    "pauli_basis = PauliExpectation().convert(expectation)\n",
    "\n",
    "quantum_instance = QuantumInstance(Aer.get_backend('qasm_simulator'),\n",
    "                                   # we'll set a seed for reproducibility\n",
    "                                   shots = 8192, seed_simulator = 2718,\n",
    "                                   seed_transpiler = 2718)\n",
    "sampler = CircuitSampler(quantum_instance)\n",
    "\n",
    "def evaluate_expectation(theta):\n",
    "    value_dict = dict(zip(ansatz.parameters, theta))\n",
    "    result = sampler.convert(pauli_basis, params=value_dict).eval()\n",
    "    print(result)\n",
    "    return np.real(result)\n",
    "\n",
    "print(ansatz.num_parameters)\n",
    "point = np.random.random(ansatz.num_parameters)\n",
    "INDEX = 2\n",
    "\n",
    "EPS = 0.2\n",
    "# make identity vector with a 1 at index ``INDEX``, otherwise 0\n",
    "e_i = np.identity(point.size)[:, INDEX]\n",
    "print(e_i)\n",
    "\n",
    "plus = point + EPS * e_i\n",
    "minus = point - EPS * e_i\n",
    "\n",
    "print(plus)\n",
    "print(minus)\n",
    "\n",
    "finite_difference = (\n",
    "    evaluate_expectation(plus) - evaluate_expectation(minus)) / (2 * EPS)\n",
    "print(finite_difference)"
   ]
  },
  {
   "cell_type": "markdown",
   "metadata": {},
   "source": [
    "### Quantum_info and primitives\n",
    "\n",
    "Doc on how to use Estimator class: https://qiskit.org/ecosystem/ibm-runtime/stubs/qiskit_ibm_runtime.Estimator.html "
   ]
  },
  {
   "cell_type": "code",
   "execution_count": 3,
   "metadata": {},
   "outputs": [
    {
     "name": "stdout",
     "output_type": "stream",
     "text": [
      "[0. 0. 1. 0.]\n",
      "[0.76458921 0.03741711 1.11859484 0.14914101]\n",
      "[0.76458921 0.03741711 0.71859484 0.14914101]\n",
      "[0.51293945]\n",
      "[0.80029297]\n",
      "[-0.71838379]\n"
     ]
    }
   ],
   "source": [
    "from qiskit.quantum_info import Pauli\n",
    "from qiskit_aer.primitives import Estimator\n",
    "\n",
    "hamiltonian = Pauli('ZZ')\n",
    "\n",
    "estimator = Estimator(run_options={\"shots\":8192, \"seed_simulator\":2718})\n",
    "def evaluate_expectation(theta):\n",
    "    result = estimator.run(ansatz, hamiltonian, theta).result().values\n",
    "    # or we can set seed and shot like this \n",
    "    # result = estimator.run(ansatz, hamiltonian, theta, run_options={\"shots\":8192, \"seed_simulator\":2718}).result().values\n",
    "    print(result)\n",
    "    return np.real(result)\n",
    "\n",
    "point = np.random.random(ansatz.num_parameters)\n",
    "INDEX = 2\n",
    "\n",
    "EPS = 0.2\n",
    "# make identity vector with a 1 at index ``INDEX``, otherwise 0\n",
    "e_i = np.identity(point.size)[:, INDEX]\n",
    "print(e_i)\n",
    "\n",
    "plus = point + EPS * e_i\n",
    "minus = point - EPS * e_i\n",
    "\n",
    "print(plus)\n",
    "print(minus)\n",
    "\n",
    "finite_difference = (\n",
    "    evaluate_expectation(plus) - evaluate_expectation(minus)) / (2 * EPS)\n",
    "print(finite_difference)"
   ]
  },
  {
   "cell_type": "markdown",
   "metadata": {},
   "source": [
    "### Nghich Quantum_info and primitives"
   ]
  },
  {
   "cell_type": "code",
   "execution_count": 4,
   "metadata": {},
   "outputs": [
    {
     "name": "stdout",
     "output_type": "stream",
     "text": [
      "[1.         0.70710678]\n"
     ]
    }
   ],
   "source": [
    "from qiskit import QuantumCircuit\n",
    "from qiskit.primitives import Estimator\n",
    "from qiskit.quantum_info import SparsePauliOp\n",
    "from qiskit.quantum_info import Clifford\n",
    "\n",
    "X = SparsePauliOp(\"X\")\n",
    "\n",
    "qc = QuantumCircuit(1)\n",
    "qc.h(0)\n",
    "H = Clifford(qc).to_operator()\n",
    "\n",
    "plus = QuantumCircuit(1)\n",
    "plus.h(0)\n",
    "\n",
    "estimator = Estimator()\n",
    "values_plus = estimator.run([plus, plus], [X, H]).result().values\n",
    "\n",
    "print(values_plus)"
   ]
  },
  {
   "cell_type": "markdown",
   "metadata": {},
   "source": [
    "## Calculate with Qiskit gradient\n",
    "\n",
    "### opflow (soon Deprecated)"
   ]
  },
  {
   "cell_type": "code",
   "execution_count": 12,
   "metadata": {},
   "outputs": [
    {
     "name": "stderr",
     "output_type": "stream",
     "text": [
      "C:\\Users\\vutha\\AppData\\Local\\Temp\\ipykernel_24744\\3727955521.py:3: DeprecationWarning: The class ``qiskit.opflow.gradients.gradient.Gradient`` is deprecated as of qiskit-terra 0.24.0. It will be removed no earlier than 3 months after the release date. For code migration guidelines, visit https://qisk.it/opflow_migration.\n",
      "  shifter = Gradient('fin_diff', analytic=False, epsilon=EPS)\n"
     ]
    },
    {
     "name": "stdout",
     "output_type": "stream",
     "text": [
      "ansatz params : ParameterView([ParameterVectorElement(θ[0]), ParameterVectorElement(θ[1]), ParameterVectorElement(θ[2]), ParameterVectorElement(θ[3])])\n",
      "ansatz params element : θ[2]\n",
      "grad : SummedOp([\n",
      "  2.5 * ComposedOp([\n",
      "    OperatorMeasurement(ZZ),\n",
      "    CircuitStateFn(\n",
      "         ┌──────────┐     ┌────────────────┐\n",
      "    q_0: ┤ Ry(θ[0]) ├──■──┤ Ry(θ[2] + 0.2) ├\n",
      "         ├──────────┤┌─┴─┐└──┬──────────┬──┘\n",
      "    q_1: ┤ Ry(θ[1]) ├┤ X ├───┤ Ry(θ[3]) ├───\n",
      "         └──────────┘└───┘   └──────────┘   \n",
      "    )\n",
      "  ]),\n",
      "  -2.5 * ComposedOp([\n",
      "    OperatorMeasurement(ZZ),\n",
      "    CircuitStateFn(\n",
      "         ┌──────────┐     ┌────────────────┐\n",
      "    q_0: ┤ Ry(θ[0]) ├──■──┤ Ry(θ[2] - 0.2) ├\n",
      "         ├──────────┤┌─┴─┐└──┬──────────┬──┘\n",
      "    q_1: ┤ Ry(θ[1]) ├┤ X ├───┤ Ry(θ[3]) ├───\n",
      "         └──────────┘└───┘   └──────────┘   \n",
      "    )\n",
      "  ])\n",
      "])\n",
      "value dict : {ParameterVectorElement(θ[0]): 0.7645892106157126, ParameterVectorElement(θ[1]): 0.0374171081083291, ParameterVectorElement(θ[2]): 0.9185948399337447, ParameterVectorElement(θ[3]): 0.1491410139305589}\n"
     ]
    },
    {
     "data": {
      "image/png": "[encoded data removed]",
      "text/plain": [
       "<Figure size 370.906x200.667 with 1 Axes>"
      ]
     },
     "execution_count": 12,
     "metadata": {},
     "output_type": "execute_result"
    }
   ],
   "source": [
    "from qiskit.opflow import Gradient\n",
    "\n",
    "shifter = Gradient('fin_diff', analytic=False, epsilon=EPS)\n",
    "\n",
    "grad = shifter.convert(expectation, params=ansatz.parameters[INDEX])\n",
    "print(\"ansatz params : %s\" % (ansatz.parameters))\n",
    "print(\"ansatz params element : %s\" % (ansatz.parameters[INDEX]))\n",
    "print(\"grad : %s\" %(grad)) # grad object contain the info of which param to optimize already\n",
    "\n",
    "value_dict = dict(zip(ansatz.parameters, point))\n",
    "print(\"value dict : %s\" % (value_dict))\n",
    "\n",
    "sampler.convert(grad, value_dict).eval().real\n",
    "\n",
    "ansatz.bind_parameters([0,0,0,0])\n",
    "ansatz.draw('mpl') # in order to be displayed correctly it need to be at the end of the line, this is possible thanks to matplotlib_inline\n",
    "# this doesn't bind the value to the image"
   ]
  },
  {
   "cell_type": "markdown",
   "metadata": {},
   "source": [
    "### Quantum_info and primitives"
   ]
  },
  {
   "cell_type": "code",
   "execution_count": null,
   "metadata": {},
   "outputs": [
    {
     "name": "stdout",
     "output_type": "stream",
     "text": [
      "<bound method QuantumCircuit.draw of <qiskit.circuit.quantumcircuit.QuantumCircuit object at 0x000001AA5F2EF850>>\n",
      "ParameterView([ParameterVectorElement(θ[0]), ParameterVectorElement(θ[1]), ParameterVectorElement(θ[2]), ParameterVectorElement(θ[3])])\n",
      "ZZ\n",
      "[0.42495457 0.09020963 0.3669372  0.65445027]\n",
      "[array([-0.03129386])]\n"
     ]
    }
   ],
   "source": [
    "from qiskit_algorithms.gradients import ParamShiftEstimatorGradient\n",
    "\n",
    "grad = ParamShiftEstimatorGradient(estimator)\n",
    "\n",
    "print(ansatz.draw)\n",
    "print(ansatz.parameters)\n",
    "print(hamiltonian)\n",
    "print(point)\n",
    "\n",
    "result = grad.run(ansatz, hamiltonian,[point], [ansatz.parameters[INDEX:INDEX+1]]).result()\n",
    "# Argument parameter of function run:\n",
    "# parameters: The sequence of parameters to calculate only the gradients of the specified parameters.\n",
    "\n",
    "gradients = result.gradients\n",
    "print(gradients)"
   ]
  },
  {
   "cell_type": "markdown",
   "metadata": {},
   "source": [
    "## Optimizer \n",
    "\n",
    "### opflow"
   ]
  },
  {
   "cell_type": "code",
   "execution_count": null,
   "metadata": {},
   "outputs": [
    {
     "name": "stderr",
     "output_type": "stream",
     "text": [
      "C:\\Users\\vutha\\AppData\\Local\\Temp\\ipykernel_21404\\648942205.py:5: DeprecationWarning: The class ``qiskit.opflow.gradients.gradient.Gradient`` is deprecated as of qiskit-terra 0.24.0. It will be removed no earlier than 3 months after the release date. For code migration guidelines, visit https://qisk.it/opflow_migration.\n",
      "  gradient = Gradient().convert(expectation)\n",
      "C:\\Users\\vutha\\AppData\\Local\\Temp\\ipykernel_21404\\648942205.py:6: DeprecationWarning: The class ``qiskit.opflow.expectations.pauli_expectation.PauliExpectation`` is deprecated as of qiskit-terra 0.24.0. It will be removed no earlier than 3 months after the release date. For code migration guidelines, visit https://qisk.it/opflow_migration.\n",
      "  gradient_in_pauli_basis = PauliExpectation().convert(gradient)\n",
      "C:\\Users\\vutha\\AppData\\Local\\Temp\\ipykernel_21404\\648942205.py:7: DeprecationWarning: The class ``qiskit.opflow.converters.circuit_sampler.CircuitSampler`` is deprecated as of qiskit-terra 0.24.0. It will be removed no earlier than 3 months after the release date. For code migration guidelines, visit https://qisk.it/opflow_migration.\n",
      "  sampler = CircuitSampler(quantum_instance)\n"
     ]
    }
   ],
   "source": [
    "# initial_point = np.random.random(ansatz.num_parameters)\n",
    "# Initialize \n",
    "initial_point = np.array([0.43253681, 0.09507794, 0.42805949, 0.34210341])\n",
    "\n",
    "gradient = Gradient().convert(expectation)\n",
    "gradient_in_pauli_basis = PauliExpectation().convert(gradient)\n",
    "sampler = CircuitSampler(quantum_instance)\n",
    "\n",
    "def evaluate_gradient(theta):\n",
    "    value_dict = dict(zip(ansatz.parameters, theta))\n",
    "    result = sampler.convert(gradient_in_pauli_basis,\n",
    "                             params=value_dict).eval()\n",
    "    return np.real(result)"
   ]
  }
 ],
 "metadata": {
  "kernelspec": {
   "display_name": "qiskit",
   "language": "python",
   "name": "python3"
  },
  "language_info": {
   "codemirror_mode": {
    "name": "ipython",
    "version": 3
   },
   "file_extension": ".py",
   "mimetype": "text/x-python",
   "name": "python",
   "nbconvert_exporter": "python",
   "pygments_lexer": "ipython3",
   "version": "3.10.12"
  },
  "orig_nbformat": 4
 },
 "nbformat": 4,
 "nbformat_minor": 2
}
