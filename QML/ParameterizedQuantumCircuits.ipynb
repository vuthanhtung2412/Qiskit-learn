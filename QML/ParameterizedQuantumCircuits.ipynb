{
 "cells": [
  {
   "cell_type": "markdown",
   "metadata": {},
   "source": [
    "# Vocab\n",
    "\n",
    "**Expressibility** of a circuit as the extent to which it can generate states within the Hilbert space. (how large the subset of space can be generated) \n",
    "\n",
    "**Entangling capability** of a circuit describes its ability to generate entangled states.\n",
    "\n",
    "**Meyer-Wallach measure** is a type of entanglement measure.\n",
    "\n",
    "**Entangling capability of a parameterized quantum circuit** as the average Meyer-Wallach measure for the states it can generate.\n",
    "\n",
    "The depth of the circuits we run directly affects the accuracy of our results.\n",
    "\n",
    "**Doc:**\n",
    "+ TwoLocal : https://qiskit.org/documentation/stubs/qiskit.circuit.library.TwoLocal.html (entangler map in this doc)\n",
    "+ NLocal : https://qiskit.org/documentation/stubs/qiskit.circuit.library.NLocal.html\n",
    "+ Data encoding circuit : https://qiskit.org/documentation/apidoc/circuit_library.html#data-encoding-circuits "
   ]
  },
  {
   "cell_type": "markdown",
   "metadata": {},
   "source": [
    "# Example of NLocal Circuits & Data Encoding Circuits"
   ]
  },
  {
   "cell_type": "code",
   "execution_count": 3,
   "metadata": {},
   "outputs": [
    {
     "data": {
      "text/html": [
       "<pre style=\"word-wrap: normal;white-space: pre;background: #fff0;line-height: 1.1;font-family: &quot;Courier New&quot;,Courier,monospace\">     ┌──────────┐ ░ ┌──────────┐                         ░ ┌──────────┐ ░ »\n",
       "q_0: ┤ Ry(θ[0]) ├─░─┤ Rz(θ[3]) ├─────■───────────────────░─┤ Ry(θ[6]) ├─░─»\n",
       "     ├──────────┤ ░ └────┬─────┘┌────┴─────┐             ░ ├──────────┤ ░ »\n",
       "q_1: ┤ Ry(θ[1]) ├─░──────┼──────┤ Rz(θ[4]) ├─────■───────░─┤ Ry(θ[7]) ├─░─»\n",
       "     ├──────────┤ ░      │      └──────────┘┌────┴─────┐ ░ ├──────────┤ ░ »\n",
       "q_2: ┤ Ry(θ[2]) ├─░──────■──────────────────┤ Rz(θ[5]) ├─░─┤ Ry(θ[8]) ├─░─»\n",
       "     └──────────┘ ░                         └──────────┘ ░ └──────────┘ ░ »\n",
       "«                              ┌───────────┐ ░ ┌───────────┐ ░              »\n",
       "«q_0: ──────────────────■──────┤ Rz(θ[11]) ├─░─┤ Ry(θ[12]) ├─░───────■──────»\n",
       "«     ┌──────────┐      │      └─────┬─────┘ ░ ├───────────┤ ░ ┌─────┴─────┐»\n",
       "«q_1: ┤ Rz(θ[9]) ├──────┼────────────■───────░─┤ Ry(θ[13]) ├─░─┤ Rz(θ[15]) ├»\n",
       "«     └────┬─────┘┌─────┴─────┐              ░ ├───────────┤ ░ └───────────┘»\n",
       "«q_2: ─────■──────┤ Rz(θ[10]) ├──────────────░─┤ Ry(θ[14]) ├─░──────────────»\n",
       "«                 └───────────┘              ░ └───────────┘ ░              »\n",
       "«                  ┌───────────┐\n",
       "«q_0: ─────────────┤ Rz(θ[17]) ├\n",
       "«                  └─────┬─────┘\n",
       "«q_1: ──────■────────────┼──────\n",
       "«     ┌─────┴─────┐      │      \n",
       "«q_2: ┤ Rz(θ[16]) ├──────■──────\n",
       "«     └───────────┘             </pre>"
      ],
      "text/plain": [
       "     ┌──────────┐ ░ ┌──────────┐                         ░ ┌──────────┐ ░ »\n",
       "q_0: ┤ Ry(θ[0]) ├─░─┤ Rz(θ[3]) ├─────■───────────────────░─┤ Ry(θ[6]) ├─░─»\n",
       "     ├──────────┤ ░ └────┬─────┘┌────┴─────┐             ░ ├──────────┤ ░ »\n",
       "q_1: ┤ Ry(θ[1]) ├─░──────┼──────┤ Rz(θ[4]) ├─────■───────░─┤ Ry(θ[7]) ├─░─»\n",
       "     ├──────────┤ ░      │      └──────────┘┌────┴─────┐ ░ ├──────────┤ ░ »\n",
       "q_2: ┤ Ry(θ[2]) ├─░──────■──────────────────┤ Rz(θ[5]) ├─░─┤ Ry(θ[8]) ├─░─»\n",
       "     └──────────┘ ░                         └──────────┘ ░ └──────────┘ ░ »\n",
       "«                              ┌───────────┐ ░ ┌───────────┐ ░              »\n",
       "«q_0: ──────────────────■──────┤ Rz(θ[11]) ├─░─┤ Ry(θ[12]) ├─░───────■──────»\n",
       "«     ┌──────────┐      │      └─────┬─────┘ ░ ├───────────┤ ░ ┌─────┴─────┐»\n",
       "«q_1: ┤ Rz(θ[9]) ├──────┼────────────■───────░─┤ Ry(θ[13]) ├─░─┤ Rz(θ[15]) ├»\n",
       "«     └────┬─────┘┌─────┴─────┐              ░ ├───────────┤ ░ └───────────┘»\n",
       "«q_2: ─────■──────┤ Rz(θ[10]) ├──────────────░─┤ Ry(θ[14]) ├─░──────────────»\n",
       "«                 └───────────┘              ░ └───────────┘ ░              »\n",
       "«                  ┌───────────┐\n",
       "«q_0: ─────────────┤ Rz(θ[17]) ├\n",
       "«                  └─────┬─────┘\n",
       "«q_1: ──────■────────────┼──────\n",
       "«     ┌─────┴─────┐      │      \n",
       "«q_2: ┤ Rz(θ[16]) ├──────■──────\n",
       "«     └───────────┘             "
      ]
     },
     "execution_count": 3,
     "metadata": {},
     "output_type": "execute_result"
    }
   ],
   "source": [
    "# TwoLocal\n",
    "from qiskit.circuit.library import TwoLocal\n",
    "qc_13 = TwoLocal(3, rotation_blocks='ry',\n",
    "                 entanglement_blocks='crz', entanglement='sca',\n",
    "                 reps=3, skip_final_rotation_layer=True,\n",
    "                 insert_barriers=True)\n",
    "\n",
    "qc_13.decompose().draw()"
   ]
  },
  {
   "cell_type": "code",
   "execution_count": 4,
   "metadata": {},
   "outputs": [
    {
     "data": {
      "text/html": [
       "<pre style=\"word-wrap: normal;white-space: pre;background: #fff0;line-height: 1.1;font-family: &quot;Courier New&quot;,Courier,monospace\">     ┌──────────┐ ░                                                 »\n",
       "q_0: ┤ Ry(θ[0]) ├─░──────■──────────────────────────────────────────»\n",
       "     ├──────────┤ ░ ┌────┴─────┐                                    »\n",
       "q_1: ┤ Rz(θ[1]) ├─░─┤ Rx(θ[6]) ├─────■───────────────────────■──────»\n",
       "     ├──────────┤ ░ └──────────┘┌────┴─────┐            ┌────┴─────┐»\n",
       "q_2: ┤ Ry(θ[2]) ├─░─────────────┤ Rx(θ[7]) ├─────■──────┤ Rx(θ[9]) ├»\n",
       "     ├──────────┤ ░             └──────────┘┌────┴─────┐└──────────┘»\n",
       "q_3: ┤ Rz(θ[3]) ├─░─────────────────────────┤ Rx(θ[8]) ├────────────»\n",
       "     ├──────────┤ ░                         └──────────┘            »\n",
       "q_4: ┤ Ry(θ[4]) ├─░─────────────────────────────────────────────────»\n",
       "     ├──────────┤ ░                                                 »\n",
       "q_5: ┤ Rz(θ[5]) ├─░─────────────────────────────────────────────────»\n",
       "     └──────────┘ ░                                                 »\n",
       "«                                                                      \n",
       "«q_0: ─────────────────────────────────────────────────────────────────\n",
       "«                                                                      \n",
       "«q_1: ─────────────────────────────────────────────────────────────────\n",
       "«                                                                      \n",
       "«q_2: ──────■─────────────────────────■────────────────────────────────\n",
       "«     ┌─────┴─────┐             ┌─────┴─────┐                          \n",
       "«q_3: ┤ Rx(θ[10]) ├──────■──────┤ Rx(θ[12]) ├──────■───────────────────\n",
       "«     └───────────┘┌─────┴─────┐└───────────┘┌─────┴─────┐             \n",
       "«q_4: ─────────────┤ Rx(θ[11]) ├─────────────┤ Rx(θ[13]) ├──────■──────\n",
       "«                  └───────────┘             └───────────┘┌─────┴─────┐\n",
       "«q_5: ────────────────────────────────────────────────────┤ Rx(θ[14]) ├\n",
       "«                                                         └───────────┘</pre>"
      ],
      "text/plain": [
       "     ┌──────────┐ ░                                                 »\n",
       "q_0: ┤ Ry(θ[0]) ├─░──────■──────────────────────────────────────────»\n",
       "     ├──────────┤ ░ ┌────┴─────┐                                    »\n",
       "q_1: ┤ Rz(θ[1]) ├─░─┤ Rx(θ[6]) ├─────■───────────────────────■──────»\n",
       "     ├──────────┤ ░ └──────────┘┌────┴─────┐            ┌────┴─────┐»\n",
       "q_2: ┤ Ry(θ[2]) ├─░─────────────┤ Rx(θ[7]) ├─────■──────┤ Rx(θ[9]) ├»\n",
       "     ├──────────┤ ░             └──────────┘┌────┴─────┐└──────────┘»\n",
       "q_3: ┤ Rz(θ[3]) ├─░─────────────────────────┤ Rx(θ[8]) ├────────────»\n",
       "     ├──────────┤ ░                         └──────────┘            »\n",
       "q_4: ┤ Ry(θ[4]) ├─░─────────────────────────────────────────────────»\n",
       "     ├──────────┤ ░                                                 »\n",
       "q_5: ┤ Rz(θ[5]) ├─░─────────────────────────────────────────────────»\n",
       "     └──────────┘ ░                                                 »\n",
       "«                                                                      \n",
       "«q_0: ─────────────────────────────────────────────────────────────────\n",
       "«                                                                      \n",
       "«q_1: ─────────────────────────────────────────────────────────────────\n",
       "«                                                                      \n",
       "«q_2: ──────■─────────────────────────■────────────────────────────────\n",
       "«     ┌─────┴─────┐             ┌─────┴─────┐                          \n",
       "«q_3: ┤ Rx(θ[10]) ├──────■──────┤ Rx(θ[12]) ├──────■───────────────────\n",
       "«     └───────────┘┌─────┴─────┐└───────────┘┌─────┴─────┐             \n",
       "«q_4: ─────────────┤ Rx(θ[11]) ├─────────────┤ Rx(θ[13]) ├──────■──────\n",
       "«                  └───────────┘             └───────────┘┌─────┴─────┐\n",
       "«q_5: ────────────────────────────────────────────────────┤ Rx(θ[14]) ├\n",
       "«                                                         └───────────┘"
      ]
     },
     "execution_count": 4,
     "metadata": {},
     "output_type": "execute_result"
    }
   ],
   "source": [
    "# NLocal\n",
    "from qiskit.circuit.library import NLocal\n",
    "from qiskit.circuit import QuantumCircuit, Parameter, ParameterVector\n",
    "\n",
    "# rotation block:\n",
    "rot = QuantumCircuit(2)\n",
    "params = ParameterVector('r', 2)\n",
    "rot.ry(params[0], 0)\n",
    "rot.rz(params[1], 1)\n",
    "\n",
    "# entanglement block:\n",
    "ent = QuantumCircuit(4)\n",
    "params = ParameterVector('e', 3)\n",
    "ent.crx(params[0], 0, 1)\n",
    "ent.crx(params[1], 1, 2)\n",
    "ent.crx(params[2], 2, 3)\n",
    "\n",
    "qc_nlocal = NLocal(num_qubits=6, rotation_blocks=rot,\n",
    "                   entanglement_blocks=ent, entanglement='linear',\n",
    "                   skip_final_rotation_layer=True, insert_barriers=True)\n",
    "\n",
    "qc_nlocal.decompose().draw()"
   ]
  },
  {
   "cell_type": "code",
   "execution_count": 5,
   "metadata": {},
   "outputs": [
    {
     "data": {
      "text/html": [
       "<pre style=\"word-wrap: normal;white-space: pre;background: #fff0;line-height: 1.1;font-family: &quot;Courier New&quot;,Courier,monospace\">     ┌───┐ ░ ┌─────────────┐                                               »\n",
       "q_0: ┤ H ├─░─┤ P(2.0*x[0]) ├──■────────────────────────────────────■────■──»\n",
       "     ├───┤ ░ ├─────────────┤┌─┴─┐┌──────────────────────────────┐┌─┴─┐  │  »\n",
       "q_1: ┤ H ├─░─┤ P(2.0*x[1]) ├┤ X ├┤ P(2.0*(π - x[0])*(π - x[1])) ├┤ X ├──┼──»\n",
       "     ├───┤ ░ ├─────────────┤└───┘└──────────────────────────────┘└───┘┌─┴─┐»\n",
       "q_2: ┤ H ├─░─┤ P(2.0*x[2]) ├──────────────────────────────────────────┤ X ├»\n",
       "     └───┘ ░ └─────────────┘                                          └───┘»\n",
       "«                                               »\n",
       "«q_0: ──────────────────────────────────■───────»\n",
       "«                                       │       »\n",
       "«q_1: ──────────────────────────────────┼────■──»\n",
       "«     ┌──────────────────────────────┐┌─┴─┐┌─┴─┐»\n",
       "«q_2: ┤ P(2.0*(π - x[0])*(π - x[2])) ├┤ X ├┤ X ├»\n",
       "«     └──────────────────────────────┘└───┘└───┘»\n",
       "«                                          \n",
       "«q_0: ─────────────────────────────────────\n",
       "«                                          \n",
       "«q_1: ──────────────────────────────────■──\n",
       "«     ┌──────────────────────────────┐┌─┴─┐\n",
       "«q_2: ┤ P(2.0*(π - x[1])*(π - x[2])) ├┤ X ├\n",
       "«     └──────────────────────────────┘└───┘</pre>"
      ],
      "text/plain": [
       "     ┌───┐ ░ ┌─────────────┐                                               »\n",
       "q_0: ┤ H ├─░─┤ P(2.0*x[0]) ├──■────────────────────────────────────■────■──»\n",
       "     ├───┤ ░ ├─────────────┤┌─┴─┐┌──────────────────────────────┐┌─┴─┐  │  »\n",
       "q_1: ┤ H ├─░─┤ P(2.0*x[1]) ├┤ X ├┤ P(2.0*(π - x[0])*(π - x[1])) ├┤ X ├──┼──»\n",
       "     ├───┤ ░ ├─────────────┤└───┘└──────────────────────────────┘└───┘┌─┴─┐»\n",
       "q_2: ┤ H ├─░─┤ P(2.0*x[2]) ├──────────────────────────────────────────┤ X ├»\n",
       "     └───┘ ░ └─────────────┘                                          └───┘»\n",
       "«                                               »\n",
       "«q_0: ──────────────────────────────────■───────»\n",
       "«                                       │       »\n",
       "«q_1: ──────────────────────────────────┼────■──»\n",
       "«     ┌──────────────────────────────┐┌─┴─┐┌─┴─┐»\n",
       "«q_2: ┤ P(2.0*(π - x[0])*(π - x[2])) ├┤ X ├┤ X ├»\n",
       "«     └──────────────────────────────┘└───┘└───┘»\n",
       "«                                          \n",
       "«q_0: ─────────────────────────────────────\n",
       "«                                          \n",
       "«q_1: ──────────────────────────────────■──\n",
       "«     ┌──────────────────────────────┐┌─┴─┐\n",
       "«q_2: ┤ P(2.0*(π - x[1])*(π - x[2])) ├┤ X ├\n",
       "«     └──────────────────────────────┘└───┘"
      ]
     },
     "execution_count": 5,
     "metadata": {},
     "output_type": "execute_result"
    }
   ],
   "source": [
    "# data encoding\n",
    "from qiskit.circuit.library import ZZFeatureMap\n",
    "qc_zz = ZZFeatureMap(3, reps=1, insert_barriers=True)\n",
    "qc_zz.decompose().draw()"
   ]
  },
  {
   "cell_type": "code",
   "execution_count": 2,
   "metadata": {},
   "outputs": [
    {
     "data": {
      "text/html": [
       "<h3>Version Information</h3><table><tr><th>Software</th><th>Version</th></tr><tr><td><code>qiskit</code></td><td>0.44.1</td></tr><tr><td><code>qiskit-terra</code></td><td>0.25.1</td></tr><tr><th colspan='2'>System information</th></tr><tr><td>Python version</td><td>3.10.12</td></tr><tr><td>Python compiler</td><td>MSC v.1916 64 bit (AMD64)</td></tr><tr><td>Python build</td><td>main, Jul  5 2023 19:01:18</td></tr><tr><td>OS</td><td>Windows</td></tr><tr><td>CPUs</td><td>14</td></tr><tr><td>Memory (Gb)</td><td>31.67876434326172</td></tr><tr><td colspan='2'>Wed Sep 06 16:30:34 2023 Romance Daylight Time</td></tr></table>"
      ],
      "text/plain": [
       "<IPython.core.display.HTML object>"
      ]
     },
     "metadata": {},
     "output_type": "display_data"
    }
   ],
   "source": [
    "import qiskit.tools.jupyter\n",
    "%qiskit_version_table"
   ]
  }
 ],
 "metadata": {
  "kernelspec": {
   "display_name": "qiskit",
   "language": "python",
   "name": "python3"
  },
  "language_info": {
   "codemirror_mode": {
    "name": "ipython",
    "version": 3
   },
   "file_extension": ".py",
   "mimetype": "text/x-python",
   "name": "python",
   "nbconvert_exporter": "python",
   "pygments_lexer": "ipython3",
   "version": "3.10.12"
  },
  "orig_nbformat": 4
 },
 "nbformat": 4,
 "nbformat_minor": 2
}
