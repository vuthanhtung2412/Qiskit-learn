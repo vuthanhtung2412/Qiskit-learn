{
 "cells": [
  {
   "cell_type": "markdown",
   "metadata": {},
   "source": [
    "# Vocab\n",
    "\n",
    "**Expressibility** of a circuit as the extent to which it can generate states within the Hilbert space. (how large the subset of space can be generated) \n",
    "\n",
    "**Entangling capability** of a circuit describes its ability to generate entangled states.\n",
    "\n",
    "**Meyer-Wallach measure** is a type of entanglement measure.\n",
    "\n",
    "**Entangling capability of a parameterized quantum circuit** as the average Meyer-Wallach measure for the states it can generate.\n",
    "\n",
    "The depth of the circuits we run directly affects the accuracy of our results.\n",
    "\n",
    "**Doc:**\n",
    "+ TwoLocal : https://qiskit.org/documentation/stubs/qiskit.circuit.library.TwoLocal.html (entangler map in this doc)\n",
    "+ NLocal : https://qiskit.org/documentation/stubs/qiskit.circuit.library.NLocal.html\n",
    "+ Data encoding circuit : https://qiskit.org/documentation/apidoc/circuit_library.html#data-encoding-circuits "
   ]
  },
  {
   "cell_type": "markdown",
   "metadata": {},
   "source": [
    "# Parameterized quantum circuit"
   ]
  },
  {
   "cell_type": "code",
   "execution_count": 1,
   "metadata": {},
   "outputs": [
    {
     "data": {
      "text/html": [
       "<pre style=\"word-wrap: normal;white-space: pre;background: #fff0;line-height: 1.1;font-family: &quot;Courier New&quot;,Courier,monospace\">     ┌──────────┐            \n",
       "q_0: ┤ Rz(θ[0]) ├─────■──────\n",
       "     └──────────┘┌────┴─────┐\n",
       "q_1: ────────────┤ Rz(θ[1]) ├\n",
       "                 └──────────┘</pre>"
      ],
      "text/plain": [
       "     ┌──────────┐            \n",
       "q_0: ┤ Rz(θ[0]) ├─────■──────\n",
       "     └──────────┘┌────┴─────┐\n",
       "q_1: ────────────┤ Rz(θ[1]) ├\n",
       "                 └──────────┘"
      ]
     },
     "execution_count": 1,
     "metadata": {},
     "output_type": "execute_result"
    }
   ],
   "source": [
    "from qiskit.circuit import QuantumCircuit, Parameter, ParameterVector\n",
    "# Parameter\n",
    "theta = Parameter('θ')\n",
    "\n",
    "qc = QuantumCircuit(2)\n",
    "qc.rz(theta, 0)\n",
    "qc.crz(theta, 0, 1)\n",
    "qc.draw()\n",
    "# Parameter Vector\n",
    "theta_list = ParameterVector('θ', length=2)\n",
    "\n",
    "qc = QuantumCircuit(2)\n",
    "qc.rz(theta_list[0], 0)\n",
    "qc.crz(theta_list[1], 0, 1)\n",
    "qc.draw()"
   ]
  },
  {
   "cell_type": "markdown",
   "metadata": {},
   "source": [
    "# Binding Parameters"
   ]
  },
  {
   "cell_type": "code",
   "execution_count": 13,
   "metadata": {},
   "outputs": [
    {
     "data": {
      "image/png": "[encoded data removed]",
      "text/plain": [
       "<Figure size 413.165x200.667 with 1 Axes>"
      ]
     },
     "execution_count": 13,
     "metadata": {},
     "output_type": "execute_result"
    }
   ],
   "source": [
    "from qiskit.circuit import QuantumCircuit, Parameter\n",
    "\n",
    "# create the parameter\n",
    "phi = Parameter('phi')\n",
    "qc = QuantumCircuit(1)\n",
    "\n",
    "# parameterize the rotation\n",
    "qc.rx(phi, 0)\n",
    "qc.draw('mpl')\n",
    "\n",
    "# bind the parameters after circuit to create a bound circuit\n",
    "bc = qc.bind_parameters({phi: 3.14})\n",
    "bc.measure_all()\n",
    "bc.draw('mpl')"
   ]
  },
  {
   "cell_type": "markdown",
   "metadata": {},
   "source": [
    "# Example of NLocal Circuits & Data Encoding Circuits"
   ]
  },
  {
   "cell_type": "code",
   "execution_count": 3,
   "metadata": {},
   "outputs": [
    {
     "data": {
      "text/html": [
       "<pre style=\"word-wrap: normal;white-space: pre;background: #fff0;line-height: 1.1;font-family: &quot;Courier New&quot;,Courier,monospace\">     ┌──────────┐ ░ ┌──────────┐                         ░ ┌──────────┐ ░ »\n",
       "q_0: ┤ Ry(θ[0]) ├─░─┤ Rz(θ[3]) ├─────■───────────────────░─┤ Ry(θ[6]) ├─░─»\n",
       "     ├──────────┤ ░ └────┬─────┘┌────┴─────┐             ░ ├──────────┤ ░ »\n",
       "q_1: ┤ Ry(θ[1]) ├─░──────┼──────┤ Rz(θ[4]) ├─────■───────░─┤ Ry(θ[7]) ├─░─»\n",
       "     ├──────────┤ ░      │      └──────────┘┌────┴─────┐ ░ ├──────────┤ ░ »\n",
       "q_2: ┤ Ry(θ[2]) ├─░──────■──────────────────┤ Rz(θ[5]) ├─░─┤ Ry(θ[8]) ├─░─»\n",
       "     └──────────┘ ░                         └──────────┘ ░ └──────────┘ ░ »\n",
       "«                              ┌───────────┐ ░ ┌───────────┐ ░              »\n",
       "«q_0: ──────────────────■──────┤ Rz(θ[11]) ├─░─┤ Ry(θ[12]) ├─░───────■──────»\n",
       "«     ┌──────────┐      │      └─────┬─────┘ ░ ├───────────┤ ░ ┌─────┴─────┐»\n",
       "«q_1: ┤ Rz(θ[9]) ├──────┼────────────■───────░─┤ Ry(θ[13]) ├─░─┤ Rz(θ[15]) ├»\n",
       "«     └────┬─────┘┌─────┴─────┐              ░ ├───────────┤ ░ └───────────┘»\n",
       "«q_2: ─────■──────┤ Rz(θ[10]) ├──────────────░─┤ Ry(θ[14]) ├─░──────────────»\n",
       "«                 └───────────┘              ░ └───────────┘ ░              »\n",
       "«                  ┌───────────┐\n",
       "«q_0: ─────────────┤ Rz(θ[17]) ├\n",
       "«                  └─────┬─────┘\n",
       "«q_1: ──────■────────────┼──────\n",
       "«     ┌─────┴─────┐      │      \n",
       "«q_2: ┤ Rz(θ[16]) ├──────■──────\n",
       "«     └───────────┘             </pre>"
      ],
      "text/plain": [
       "     ┌──────────┐ ░ ┌──────────┐                         ░ ┌──────────┐ ░ »\n",
       "q_0: ┤ Ry(θ[0]) ├─░─┤ Rz(θ[3]) ├─────■───────────────────░─┤ Ry(θ[6]) ├─░─»\n",
       "     ├──────────┤ ░ └────┬─────┘┌────┴─────┐             ░ ├──────────┤ ░ »\n",
       "q_1: ┤ Ry(θ[1]) ├─░──────┼──────┤ Rz(θ[4]) ├─────■───────░─┤ Ry(θ[7]) ├─░─»\n",
       "     ├──────────┤ ░      │      └──────────┘┌────┴─────┐ ░ ├──────────┤ ░ »\n",
       "q_2: ┤ Ry(θ[2]) ├─░──────■──────────────────┤ Rz(θ[5]) ├─░─┤ Ry(θ[8]) ├─░─»\n",
       "     └──────────┘ ░                         └──────────┘ ░ └──────────┘ ░ »\n",
       "«                              ┌───────────┐ ░ ┌───────────┐ ░              »\n",
       "«q_0: ──────────────────■──────┤ Rz(θ[11]) ├─░─┤ Ry(θ[12]) ├─░───────■──────»\n",
       "«     ┌──────────┐      │      └─────┬─────┘ ░ ├───────────┤ ░ ┌─────┴─────┐»\n",
       "«q_1: ┤ Rz(θ[9]) ├──────┼────────────■───────░─┤ Ry(θ[13]) ├─░─┤ Rz(θ[15]) ├»\n",
       "«     └────┬─────┘┌─────┴─────┐              ░ ├───────────┤ ░ └───────────┘»\n",
       "«q_2: ─────■──────┤ Rz(θ[10]) ├──────────────░─┤ Ry(θ[14]) ├─░──────────────»\n",
       "«                 └───────────┘              ░ └───────────┘ ░              »\n",
       "«                  ┌───────────┐\n",
       "«q_0: ─────────────┤ Rz(θ[17]) ├\n",
       "«                  └─────┬─────┘\n",
       "«q_1: ──────■────────────┼──────\n",
       "«     ┌─────┴─────┐      │      \n",
       "«q_2: ┤ Rz(θ[16]) ├──────■──────\n",
       "«     └───────────┘             "
      ]
     },
     "execution_count": 3,
     "metadata": {},
     "output_type": "execute_result"
    }
   ],
   "source": [
    "# TwoLocal\n",
    "from qiskit.circuit.library import TwoLocal\n",
    "qc_13 = TwoLocal(3, rotation_blocks='ry',\n",
    "                 entanglement_blocks='crz', entanglement='sca',\n",
    "                 reps=3, skip_final_rotation_layer=True,\n",
    "                 insert_barriers=True)\n",
    "\n",
    "qc_13.decompose().draw()"
   ]
  },
  {
   "cell_type": "code",
   "execution_count": 4,
   "metadata": {},
   "outputs": [
    {
     "data": {
      "text/html": [
       "<pre style=\"word-wrap: normal;white-space: pre;background: #fff0;line-height: 1.1;font-family: &quot;Courier New&quot;,Courier,monospace\">     ┌──────────┐ ░                                                 »\n",
       "q_0: ┤ Ry(θ[0]) ├─░──────■──────────────────────────────────────────»\n",
       "     ├──────────┤ ░ ┌────┴─────┐                                    »\n",
       "q_1: ┤ Rz(θ[1]) ├─░─┤ Rx(θ[6]) ├─────■───────────────────────■──────»\n",
       "     ├──────────┤ ░ └──────────┘┌────┴─────┐            ┌────┴─────┐»\n",
       "q_2: ┤ Ry(θ[2]) ├─░─────────────┤ Rx(θ[7]) ├─────■──────┤ Rx(θ[9]) ├»\n",
       "     ├──────────┤ ░             └──────────┘┌────┴─────┐└──────────┘»\n",
       "q_3: ┤ Rz(θ[3]) ├─░─────────────────────────┤ Rx(θ[8]) ├────────────»\n",
       "     ├──────────┤ ░                         └──────────┘            »\n",
       "q_4: ┤ Ry(θ[4]) ├─░─────────────────────────────────────────────────»\n",
       "     ├──────────┤ ░                                                 »\n",
       "q_5: ┤ Rz(θ[5]) ├─░─────────────────────────────────────────────────»\n",
       "     └──────────┘ ░                                                 »\n",
       "«                                                                      \n",
       "«q_0: ─────────────────────────────────────────────────────────────────\n",
       "«                                                                      \n",
       "«q_1: ─────────────────────────────────────────────────────────────────\n",
       "«                                                                      \n",
       "«q_2: ──────■─────────────────────────■────────────────────────────────\n",
       "«     ┌─────┴─────┐             ┌─────┴─────┐                          \n",
       "«q_3: ┤ Rx(θ[10]) ├──────■──────┤ Rx(θ[12]) ├──────■───────────────────\n",
       "«     └───────────┘┌─────┴─────┐└───────────┘┌─────┴─────┐             \n",
       "«q_4: ─────────────┤ Rx(θ[11]) ├─────────────┤ Rx(θ[13]) ├──────■──────\n",
       "«                  └───────────┘             └───────────┘┌─────┴─────┐\n",
       "«q_5: ────────────────────────────────────────────────────┤ Rx(θ[14]) ├\n",
       "«                                                         └───────────┘</pre>"
      ],
      "text/plain": [
       "     ┌──────────┐ ░                                                 »\n",
       "q_0: ┤ Ry(θ[0]) ├─░──────■──────────────────────────────────────────»\n",
       "     ├──────────┤ ░ ┌────┴─────┐                                    »\n",
       "q_1: ┤ Rz(θ[1]) ├─░─┤ Rx(θ[6]) ├─────■───────────────────────■──────»\n",
       "     ├──────────┤ ░ └──────────┘┌────┴─────┐            ┌────┴─────┐»\n",
       "q_2: ┤ Ry(θ[2]) ├─░─────────────┤ Rx(θ[7]) ├─────■──────┤ Rx(θ[9]) ├»\n",
       "     ├──────────┤ ░             └──────────┘┌────┴─────┐└──────────┘»\n",
       "q_3: ┤ Rz(θ[3]) ├─░─────────────────────────┤ Rx(θ[8]) ├────────────»\n",
       "     ├──────────┤ ░                         └──────────┘            »\n",
       "q_4: ┤ Ry(θ[4]) ├─░─────────────────────────────────────────────────»\n",
       "     ├──────────┤ ░                                                 »\n",
       "q_5: ┤ Rz(θ[5]) ├─░─────────────────────────────────────────────────»\n",
       "     └──────────┘ ░                                                 »\n",
       "«                                                                      \n",
       "«q_0: ─────────────────────────────────────────────────────────────────\n",
       "«                                                                      \n",
       "«q_1: ─────────────────────────────────────────────────────────────────\n",
       "«                                                                      \n",
       "«q_2: ──────■─────────────────────────■────────────────────────────────\n",
       "«     ┌─────┴─────┐             ┌─────┴─────┐                          \n",
       "«q_3: ┤ Rx(θ[10]) ├──────■──────┤ Rx(θ[12]) ├──────■───────────────────\n",
       "«     └───────────┘┌─────┴─────┐└───────────┘┌─────┴─────┐             \n",
       "«q_4: ─────────────┤ Rx(θ[11]) ├─────────────┤ Rx(θ[13]) ├──────■──────\n",
       "«                  └───────────┘             └───────────┘┌─────┴─────┐\n",
       "«q_5: ────────────────────────────────────────────────────┤ Rx(θ[14]) ├\n",
       "«                                                         └───────────┘"
      ]
     },
     "execution_count": 4,
     "metadata": {},
     "output_type": "execute_result"
    }
   ],
   "source": [
    "from qiskit.circuit.library import NLocal\n",
    "\n",
    "# rotation block:\n",
    "rot = QuantumCircuit(2)\n",
    "params = ParameterVector('r', 2)\n",
    "rot.ry(params[0], 0)\n",
    "rot.rz(params[1], 1)\n",
    "\n",
    "# entanglement block:\n",
    "ent = QuantumCircuit(4)\n",
    "params = ParameterVector('e', 3)\n",
    "ent.crx(params[0], 0, 1)\n",
    "ent.crx(params[1], 1, 2)\n",
    "ent.crx(params[2], 2, 3)\n",
    "\n",
    "qc_nlocal = NLocal(num_qubits=6, rotation_blocks=rot,\n",
    "                   entanglement_blocks=ent, entanglement='linear',\n",
    "                   skip_final_rotation_layer=True, insert_barriers=True)\n",
    "\n",
    "qc_nlocal.decompose().draw()"
   ]
  },
  {
   "cell_type": "code",
   "execution_count": 5,
   "metadata": {},
   "outputs": [
    {
     "data": {
      "text/html": [
       "<pre style=\"word-wrap: normal;white-space: pre;background: #fff0;line-height: 1.1;font-family: &quot;Courier New&quot;,Courier,monospace\">     ┌──────────┐ ░                         ┌──────────┐            »\n",
       "q_0: ┤ Ry(θ[0]) ├─░─────────────────────────┤ Rx(θ[5]) ├─────■──────»\n",
       "     ├──────────┤ ░                         └────┬─────┘┌────┴─────┐»\n",
       "q_1: ┤ Rz(θ[1]) ├─░──────────────────────────────┼──────┤ Rx(θ[6]) ├»\n",
       "     ├──────────┤ ░                              │      └──────────┘»\n",
       "q_2: ┤ Rx(θ[2]) ├─░──────────────────────────────┼──────────────────»\n",
       "     ├──────────┤ ░                              │                  »\n",
       "q_3: ┤ Rx(θ[2]) ├─░──────■───────────────────────┼──────────────────»\n",
       "     └──────────┘ ░ ┌────┴─────┐                 │                  »\n",
       "q_4: ─────────────░─┤ Rx(θ[3]) ├─────■───────────┼──────────────────»\n",
       "                  ░ └──────────┘┌────┴─────┐     │                  »\n",
       "q_5: ─────────────░─────────────┤ Rx(θ[4]) ├─────■──────────────────»\n",
       "                  ░             └──────────┘                        »\n",
       "«                                                                   »\n",
       "«q_0: ──────────────────────────────────────────────────────────────»\n",
       "«                                                                   »\n",
       "«q_1: ─────■───────────────────────■────────────────────────────────»\n",
       "«     ┌────┴─────┐            ┌────┴─────┐                          »\n",
       "«q_2: ┤ Rx(θ[7]) ├─────■──────┤ Rx(θ[9]) ├──────■───────────────────»\n",
       "«     └──────────┘┌────┴─────┐└──────────┘┌─────┴─────┐             »\n",
       "«q_3: ────────────┤ Rx(θ[8]) ├────────────┤ Rx(θ[10]) ├──────■──────»\n",
       "«                 └──────────┘            └───────────┘┌─────┴─────┐»\n",
       "«q_4: ─────────────────────────────────────────────────┤ Rx(θ[11]) ├»\n",
       "«                                                      └───────────┘»\n",
       "«q_5: ──────────────────────────────────────────────────────────────»\n",
       "«                                                                   »\n",
       "«                                            \n",
       "«q_0: ───────────────────────────────────────\n",
       "«                                            \n",
       "«q_1: ───────────────────────────────────────\n",
       "«                                            \n",
       "«q_2: ──────■────────────────────────────────\n",
       "«     ┌─────┴─────┐                          \n",
       "«q_3: ┤ Rx(θ[12]) ├──────■───────────────────\n",
       "«     └───────────┘┌─────┴─────┐             \n",
       "«q_4: ─────────────┤ Rx(θ[13]) ├──────■──────\n",
       "«                  └───────────┘┌─────┴─────┐\n",
       "«q_5: ──────────────────────────┤ Rx(θ[14]) ├\n",
       "«                               └───────────┘</pre>"
      ],
      "text/plain": [
       "     ┌──────────┐ ░                         ┌──────────┐            »\n",
       "q_0: ┤ Ry(θ[0]) ├─░─────────────────────────┤ Rx(θ[5]) ├─────■──────»\n",
       "     ├──────────┤ ░                         └────┬─────┘┌────┴─────┐»\n",
       "q_1: ┤ Rz(θ[1]) ├─░──────────────────────────────┼──────┤ Rx(θ[6]) ├»\n",
       "     ├──────────┤ ░                              │      └──────────┘»\n",
       "q_2: ┤ Rx(θ[2]) ├─░──────────────────────────────┼──────────────────»\n",
       "     ├──────────┤ ░                              │                  »\n",
       "q_3: ┤ Rx(θ[2]) ├─░──────■───────────────────────┼──────────────────»\n",
       "     └──────────┘ ░ ┌────┴─────┐                 │                  »\n",
       "q_4: ─────────────░─┤ Rx(θ[3]) ├─────■───────────┼──────────────────»\n",
       "                  ░ └──────────┘┌────┴─────┐     │                  »\n",
       "q_5: ─────────────░─────────────┤ Rx(θ[4]) ├─────■──────────────────»\n",
       "                  ░             └──────────┘                        »\n",
       "«                                                                   »\n",
       "«q_0: ──────────────────────────────────────────────────────────────»\n",
       "«                                                                   »\n",
       "«q_1: ─────■───────────────────────■────────────────────────────────»\n",
       "«     ┌────┴─────┐            ┌────┴─────┐                          »\n",
       "«q_2: ┤ Rx(θ[7]) ├─────■──────┤ Rx(θ[9]) ├──────■───────────────────»\n",
       "«     └──────────┘┌────┴─────┐└──────────┘┌─────┴─────┐             »\n",
       "«q_3: ────────────┤ Rx(θ[8]) ├────────────┤ Rx(θ[10]) ├──────■──────»\n",
       "«                 └──────────┘            └───────────┘┌─────┴─────┐»\n",
       "«q_4: ─────────────────────────────────────────────────┤ Rx(θ[11]) ├»\n",
       "«                                                      └───────────┘»\n",
       "«q_5: ──────────────────────────────────────────────────────────────»\n",
       "«                                                                   »\n",
       "«                                            \n",
       "«q_0: ───────────────────────────────────────\n",
       "«                                            \n",
       "«q_1: ───────────────────────────────────────\n",
       "«                                            \n",
       "«q_2: ──────■────────────────────────────────\n",
       "«     ┌─────┴─────┐                          \n",
       "«q_3: ┤ Rx(θ[12]) ├──────■───────────────────\n",
       "«     └───────────┘┌─────┴─────┐             \n",
       "«q_4: ─────────────┤ Rx(θ[13]) ├──────■──────\n",
       "«                  └───────────┘┌─────┴─────┐\n",
       "«q_5: ──────────────────────────┤ Rx(θ[14]) ├\n",
       "«                               └───────────┘"
      ]
     },
     "execution_count": 5,
     "metadata": {},
     "output_type": "execute_result"
    }
   ],
   "source": [
    "# NLocal\n",
    "from qiskit.circuit.library import NLocal\n",
    "from qiskit.circuit import QuantumCircuit, Parameter, ParameterVector\n",
    "\n",
    "# rotation block:\n",
    "rot = QuantumCircuit(4)\n",
    "params = ParameterVector('r', 3)\n",
    "rot.ry(params[0], 0)\n",
    "rot.rz(params[1], 1)\n",
    "rot.rx(params[2], 2)\n",
    "rot.rx(params[2], 3)\n",
    "\n",
    "# entanglement block:\n",
    "ent = QuantumCircuit(4)\n",
    "params = ParameterVector('e', 3)\n",
    "ent.crx(params[0], 0, 1)\n",
    "ent.crx(params[1], 1, 2)\n",
    "ent.crx(params[2], 2, 3)\n",
    "\n",
    "qc_nlocal = NLocal(num_qubits=6, rotation_blocks=rot,\n",
    "                   entanglement_blocks=ent, entanglement='sca',\n",
    "                   skip_final_rotation_layer=True, insert_barriers=True)\n",
    "\n",
    "qc_nlocal.decompose().draw()"
   ]
  },
  {
   "cell_type": "markdown",
   "metadata": {},
   "source": [
    "# ZZ encoding"
   ]
  },
  {
   "cell_type": "code",
   "execution_count": 6,
   "metadata": {},
   "outputs": [
    {
     "data": {
      "text/html": [
       "<pre style=\"word-wrap: normal;white-space: pre;background: #fff0;line-height: 1.1;font-family: &quot;Courier New&quot;,Courier,monospace\">     ┌───┐ ░ ┌─────────────┐                                               »\n",
       "q_0: ┤ H ├─░─┤ P(2.0*x[0]) ├──■────────────────────────────────────■────■──»\n",
       "     ├───┤ ░ ├─────────────┤┌─┴─┐┌──────────────────────────────┐┌─┴─┐  │  »\n",
       "q_1: ┤ H ├─░─┤ P(2.0*x[1]) ├┤ X ├┤ P(2.0*(π - x[0])*(π - x[1])) ├┤ X ├──┼──»\n",
       "     ├───┤ ░ ├─────────────┤└───┘└──────────────────────────────┘└───┘┌─┴─┐»\n",
       "q_2: ┤ H ├─░─┤ P(2.0*x[2]) ├──────────────────────────────────────────┤ X ├»\n",
       "     └───┘ ░ └─────────────┘                                          └───┘»\n",
       "«                                               »\n",
       "«q_0: ──────────────────────────────────■───────»\n",
       "«                                       │       »\n",
       "«q_1: ──────────────────────────────────┼────■──»\n",
       "«     ┌──────────────────────────────┐┌─┴─┐┌─┴─┐»\n",
       "«q_2: ┤ P(2.0*(π - x[0])*(π - x[2])) ├┤ X ├┤ X ├»\n",
       "«     └──────────────────────────────┘└───┘└───┘»\n",
       "«                                          \n",
       "«q_0: ─────────────────────────────────────\n",
       "«                                          \n",
       "«q_1: ──────────────────────────────────■──\n",
       "«     ┌──────────────────────────────┐┌─┴─┐\n",
       "«q_2: ┤ P(2.0*(π - x[1])*(π - x[2])) ├┤ X ├\n",
       "«     └──────────────────────────────┘└───┘</pre>"
      ],
      "text/plain": [
       "     ┌───┐ ░ ┌─────────────┐                                               »\n",
       "q_0: ┤ H ├─░─┤ P(2.0*x[0]) ├──■────────────────────────────────────■────■──»\n",
       "     ├───┤ ░ ├─────────────┤┌─┴─┐┌──────────────────────────────┐┌─┴─┐  │  »\n",
       "q_1: ┤ H ├─░─┤ P(2.0*x[1]) ├┤ X ├┤ P(2.0*(π - x[0])*(π - x[1])) ├┤ X ├──┼──»\n",
       "     ├───┤ ░ ├─────────────┤└───┘└──────────────────────────────┘└───┘┌─┴─┐»\n",
       "q_2: ┤ H ├─░─┤ P(2.0*x[2]) ├──────────────────────────────────────────┤ X ├»\n",
       "     └───┘ ░ └─────────────┘                                          └───┘»\n",
       "«                                               »\n",
       "«q_0: ──────────────────────────────────■───────»\n",
       "«                                       │       »\n",
       "«q_1: ──────────────────────────────────┼────■──»\n",
       "«     ┌──────────────────────────────┐┌─┴─┐┌─┴─┐»\n",
       "«q_2: ┤ P(2.0*(π - x[0])*(π - x[2])) ├┤ X ├┤ X ├»\n",
       "«     └──────────────────────────────┘└───┘└───┘»\n",
       "«                                          \n",
       "«q_0: ─────────────────────────────────────\n",
       "«                                          \n",
       "«q_1: ──────────────────────────────────■──\n",
       "«     ┌──────────────────────────────┐┌─┴─┐\n",
       "«q_2: ┤ P(2.0*(π - x[1])*(π - x[2])) ├┤ X ├\n",
       "«     └──────────────────────────────┘└───┘"
      ]
     },
     "execution_count": 6,
     "metadata": {},
     "output_type": "execute_result"
    }
   ],
   "source": [
    "# data encoding\n",
    "from qiskit.circuit.library import ZZFeatureMap\n",
    "qc_zz = ZZFeatureMap(3, reps=1, insert_barriers=True)\n",
    "qc_zz.decompose().draw()"
   ]
  }
 ],
 "metadata": {
  "kernelspec": {
   "display_name": "qiskit",
   "language": "python",
   "name": "python3"
  },
  "language_info": {
   "codemirror_mode": {
    "name": "ipython",
    "version": 3
   },
   "file_extension": ".py",
   "mimetype": "text/x-python",
   "name": "python",
   "nbconvert_exporter": "python",
   "pygments_lexer": "ipython3",
   "version": "3.10.12"
  },
  "orig_nbformat": 4
 },
 "nbformat": 4,
 "nbformat_minor": 2
}
