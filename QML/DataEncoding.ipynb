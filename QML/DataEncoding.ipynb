{
 "cells": [
  {
   "cell_type": "markdown",
   "metadata": {},
   "source": [
    "# Data encoding (M samples of N features)\n",
    "\n",
    "**Basis Encoding:** |X> = 1/sqrt(M) * sumi(1,M,|xi>)\n",
    "+ Disadvantage: the state vectors can become quite sparse\n",
    "\n",
    "**Amplitude Encoding:**\n",
    "+ Each entry of each data point corresponds to a basis vector and the amplitude is its value/sum\n",
    "+ The advantage of amplitude encoding is that it only requires log(N*M) qubits to encode \n",
    "\n",
    "**Angle Encoding:** tensor product of quantum encoding of each features \n",
    "+ Dense angle encoding \n",
    "\n",
    "**Arbitrary encoding:** encodes N features as rotations on N parameterized gates on n qubits, where n <= M"
   ]
  }
 ],
 "metadata": {
  "kernelspec": {
   "display_name": "qiskit",
   "language": "python",
   "name": "python3"
  },
  "language_info": {
   "codemirror_mode": {
    "name": "ipython",
    "version": 3
   },
   "file_extension": ".py",
   "mimetype": "text/x-python",
   "name": "python",
   "nbconvert_exporter": "python",
   "pygments_lexer": "ipython3",
   "version": "3.10.12"
  },
  "orig_nbformat": 4
 },
 "nbformat": 4,
 "nbformat_minor": 2
}
