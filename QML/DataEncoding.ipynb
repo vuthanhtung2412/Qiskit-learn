{
 "cells": [
  {
   "cell_type": "markdown",
   "metadata": {},
   "source": [
    "# Data encoding (M samples of N features)\n",
    "\n",
    "**Basis Encoding:** |X> = 1/sqrt(M) * sumi(1,M,|xi>)\n",
    "+ Disadvantage: the state vectors can become quite sparse\n",
    "\n",
    "**Amplitude Encoding:**\n",
    "+ Each entry of each data point corresponds to a basis vector and the amplitude is its value/sum\n",
    "+ The advantage of amplitude encoding is that it only requires log(N*M) qubits to encode \n",
    "\n",
    "**Angle Encoding:** tensor product of quantum encoding of each features \n",
    "+ Dense angle encoding \n",
    "\n",
    "**Arbitrary encoding:** encodes N features as rotations on N parameterized gates on n qubits, where n <= M"
   ]
  },
  {
   "cell_type": "markdown",
   "metadata": {},
   "source": [
    "## Basis encoding"
   ]
  },
  {
   "cell_type": "code",
   "execution_count": 1,
   "metadata": {},
   "outputs": [
    {
     "data": {
      "text/html": [
       "<pre style=\"word-wrap: normal;white-space: pre;background: #fff0;line-height: 1.1;font-family: &quot;Courier New&quot;,Courier,monospace\">          ┌───────────────────────┐                      ┌───┐»\n",
       "q_0: ─|0>─┤ multiplex1_reverse_dg ├──────────────────────┤ X ├»\n",
       "          └──────┬─────────┬──────┘┌───┐┌──────────┐┌───┐└─┬─┘»\n",
       "q_1: ─|0>────────┤ Ry(π/4) ├───────┤ X ├┤ Ry(-π/4) ├┤ X ├──■──»\n",
       "                 ├─────────┴┐      └─┬─┘└──────────┘└─┬─┘     »\n",
       "q_2: ─|0>────────┤ R(π,π/2) ├────────■────────────────■───────»\n",
       "                 └──────────┘                                 »\n",
       "«     ┌───────────────────────────────┐┌───┐»\n",
       "«q_0: ┤ multiplex1_reverse_reverse_dg ├┤ X ├»\n",
       "«     └───────────────────────────────┘└─┬─┘»\n",
       "«q_1: ───────────────────────────────────┼──»\n",
       "«                                        │  »\n",
       "«q_2: ───────────────────────────────────■──»\n",
       "«                                           »\n",
       "«     ┌───────────────────────────────────────┐┌───┐»\n",
       "«q_0: ┤ multiplex1_reverse_reverse_reverse_dg ├┤ X ├»\n",
       "«     └───────────────────────────────────────┘└─┬─┘»\n",
       "«q_1: ───────────────────────────────────────────■──»\n",
       "«                                                   »\n",
       "«q_2: ──────────────────────────────────────────────»\n",
       "«                                                   »\n",
       "«     ┌───────────────────────────────┐┌───┐\n",
       "«q_0: ┤ multiplex1_reverse_reverse_dg ├┤ X ├\n",
       "«     └───────────────────────────────┘└─┬─┘\n",
       "«q_1: ───────────────────────────────────┼──\n",
       "«                                        │  \n",
       "«q_2: ───────────────────────────────────■──\n",
       "«                                           </pre>"
      ],
      "text/plain": [
       "          ┌───────────────────────┐                      ┌───┐»\n",
       "q_0: ─|0>─┤ multiplex1_reverse_dg ├──────────────────────┤ X ├»\n",
       "          └──────┬─────────┬──────┘┌───┐┌──────────┐┌───┐└─┬─┘»\n",
       "q_1: ─|0>────────┤ Ry(π/4) ├───────┤ X ├┤ Ry(-π/4) ├┤ X ├──■──»\n",
       "                 ├─────────┴┐      └─┬─┘└──────────┘└─┬─┘     »\n",
       "q_2: ─|0>────────┤ R(π,π/2) ├────────■────────────────■───────»\n",
       "                 └──────────┘                                 »\n",
       "«     ┌───────────────────────────────┐┌───┐»\n",
       "«q_0: ┤ multiplex1_reverse_reverse_dg ├┤ X ├»\n",
       "«     └───────────────────────────────┘└─┬─┘»\n",
       "«q_1: ───────────────────────────────────┼──»\n",
       "«                                        │  »\n",
       "«q_2: ───────────────────────────────────■──»\n",
       "«                                           »\n",
       "«     ┌───────────────────────────────────────┐┌───┐»\n",
       "«q_0: ┤ multiplex1_reverse_reverse_reverse_dg ├┤ X ├»\n",
       "«     └───────────────────────────────────────┘└─┬─┘»\n",
       "«q_1: ───────────────────────────────────────────■──»\n",
       "«                                                   »\n",
       "«q_2: ──────────────────────────────────────────────»\n",
       "«                                                   »\n",
       "«     ┌───────────────────────────────┐┌───┐\n",
       "«q_0: ┤ multiplex1_reverse_reverse_dg ├┤ X ├\n",
       "«     └───────────────────────────────┘└─┬─┘\n",
       "«q_1: ───────────────────────────────────┼──\n",
       "«                                        │  \n",
       "«q_2: ───────────────────────────────────■──\n",
       "«                                           "
      ]
     },
     "execution_count": 1,
     "metadata": {},
     "output_type": "execute_result"
    }
   ],
   "source": [
    "import math\n",
    "from qiskit import QuantumCircuit\n",
    "\n",
    "desired_state = [\n",
    "    0,\n",
    "    0,\n",
    "    0,\n",
    "    0,\n",
    "    0,\n",
    "    1 / math.sqrt(2),\n",
    "    0,\n",
    "    1 / math.sqrt(2)]\n",
    "\n",
    "qc = QuantumCircuit(3)\n",
    "qc.initialize(desired_state, [0,1,2])\n",
    "qc.decompose().decompose().decompose().decompose().decompose().draw()"
   ]
  },
  {
   "cell_type": "markdown",
   "metadata": {},
   "source": [
    "## Amplitude encoding"
   ]
  },
  {
   "cell_type": "code",
   "execution_count": 2,
   "metadata": {},
   "outputs": [
    {
     "data": {
      "text/html": [
       "<pre style=\"word-wrap: normal;white-space: pre;background: #fff0;line-height: 1.1;font-family: &quot;Courier New&quot;,Courier,monospace\">           ┌─────────────┐            ┌───┐┌──────────────┐┌─────────┐┌───┐»\n",
       "q_0: ─|0>──┤ Ry(0.98279) ├────────────┤ X ├┤ Ry(-0.98279) ├┤ Rz(π/2) ├┤ X ├»\n",
       "          ┌┴─────────────┴┐┌─────────┐└─┬─┘└──────────────┘└─────────┘└─┬─┘»\n",
       "q_1: ─|0>─┤ R(2.3531,π/2) ├┤ U1(π/2) ├──■───────────────────────────────■──»\n",
       "          └───────────────┘└─────────┘                                     »\n",
       "«     ┌──────────┐\n",
       "«q_0: ┤ Rz(-π/2) ├\n",
       "«     └──────────┘\n",
       "«q_1: ────────────\n",
       "«                 </pre>"
      ],
      "text/plain": [
       "           ┌─────────────┐            ┌───┐┌──────────────┐┌─────────┐┌───┐»\n",
       "q_0: ─|0>──┤ Ry(0.98279) ├────────────┤ X ├┤ Ry(-0.98279) ├┤ Rz(π/2) ├┤ X ├»\n",
       "          ┌┴─────────────┴┐┌─────────┐└─┬─┘└──────────────┘└─────────┘└─┬─┘»\n",
       "q_1: ─|0>─┤ R(2.3531,π/2) ├┤ U1(π/2) ├──■───────────────────────────────■──»\n",
       "          └───────────────┘└─────────┘                                     »\n",
       "«     ┌──────────┐\n",
       "«q_0: ┤ Rz(-π/2) ├\n",
       "«     └──────────┘\n",
       "«q_1: ────────────\n",
       "«                 "
      ]
     },
     "execution_count": 2,
     "metadata": {},
     "output_type": "execute_result"
    }
   ],
   "source": [
    "desired_state = [\n",
    "    1 / math.sqrt(15.25) * 1.5,\n",
    "    0,\n",
    "    1 / math.sqrt(15.25) * -2,\n",
    "    1 / math.sqrt(15.25) * 3]\n",
    "\n",
    "qc = QuantumCircuit(2)\n",
    "qc.initialize(desired_state, [0,1]) \n",
    "# both basis encoding amplitude encoding used \"initialize()\" function\n",
    "# However the desired state is very different\n",
    "\n",
    "qc.decompose().decompose().decompose().decompose().decompose().draw()"
   ]
  },
  {
   "cell_type": "markdown",
   "metadata": {},
   "source": [
    "## Angle encoding \n",
    "\n",
    "(encode only 1 data point at a time)"
   ]
  },
  {
   "cell_type": "code",
   "execution_count": null,
   "metadata": {},
   "outputs": [],
   "source": [
    "qc = QuantumCircuit(3)\n",
    "qc.ry(0, 0)\n",
    "qc.ry(2*math.pi/4, 1)\n",
    "qc.ry(2*math.pi/2, 2)\n",
    "qc.draw()"
   ]
  },
  {
   "cell_type": "markdown",
   "metadata": {},
   "source": [
    "## Other abstract encoding\n",
    "\n",
    "### EfficientSU2 to encode 12 features"
   ]
  },
  {
   "cell_type": "code",
   "execution_count": 5,
   "metadata": {},
   "outputs": [
    {
     "name": "stdout",
     "output_type": "stream",
     "text": [
      "     ┌──────────┐┌──────────┐ ░            ░ ┌──────────┐ ┌──────────┐\n",
      "q_0: ┤ Ry(θ[0]) ├┤ Rz(θ[3]) ├─░────────■───░─┤ Ry(θ[6]) ├─┤ Rz(θ[9]) ├\n",
      "     ├──────────┤├──────────┤ ░      ┌─┴─┐ ░ ├──────────┤┌┴──────────┤\n",
      "q_1: ┤ Ry(θ[1]) ├┤ Rz(θ[4]) ├─░───■──┤ X ├─░─┤ Ry(θ[7]) ├┤ Rz(θ[10]) ├\n",
      "     ├──────────┤├──────────┤ ░ ┌─┴─┐└───┘ ░ ├──────────┤├───────────┤\n",
      "q_2: ┤ Ry(θ[2]) ├┤ Rz(θ[5]) ├─░─┤ X ├──────░─┤ Ry(θ[8]) ├┤ Rz(θ[11]) ├\n",
      "     └──────────┘└──────────┘ ░ └───┘      ░ └──────────┘└───────────┘\n"
     ]
    },
    {
     "data": {
      "text/html": [
       "<pre style=\"word-wrap: normal;white-space: pre;background: #fff0;line-height: 1.1;font-family: &quot;Courier New&quot;,Courier,monospace\">     ┌─────────┐┌─────────┐ ░            ░ ┌─────────┐ ┌───────┐ \n",
       "q_0: ┤ Ry(0.1) ├┤ Rz(0.4) ├─░────────■───░─┤ Ry(0.7) ├─┤ Rz(1) ├─\n",
       "     ├─────────┤├─────────┤ ░      ┌─┴─┐ ░ ├─────────┤┌┴───────┴┐\n",
       "q_1: ┤ Ry(0.2) ├┤ Rz(0.5) ├─░───■──┤ X ├─░─┤ Ry(0.8) ├┤ Rz(1.1) ├\n",
       "     ├─────────┤├─────────┤ ░ ┌─┴─┐└───┘ ░ ├─────────┤├─────────┤\n",
       "q_2: ┤ Ry(0.3) ├┤ Rz(0.6) ├─░─┤ X ├──────░─┤ Ry(0.9) ├┤ Rz(1.2) ├\n",
       "     └─────────┘└─────────┘ ░ └───┘      ░ └─────────┘└─────────┘</pre>"
      ],
      "text/plain": [
       "     ┌─────────┐┌─────────┐ ░            ░ ┌─────────┐ ┌───────┐ \n",
       "q_0: ┤ Ry(0.1) ├┤ Rz(0.4) ├─░────────■───░─┤ Ry(0.7) ├─┤ Rz(1) ├─\n",
       "     ├─────────┤├─────────┤ ░      ┌─┴─┐ ░ ├─────────┤┌┴───────┴┐\n",
       "q_1: ┤ Ry(0.2) ├┤ Rz(0.5) ├─░───■──┤ X ├─░─┤ Ry(0.8) ├┤ Rz(1.1) ├\n",
       "     ├─────────┤├─────────┤ ░ ┌─┴─┐└───┘ ░ ├─────────┤├─────────┤\n",
       "q_2: ┤ Ry(0.3) ├┤ Rz(0.6) ├─░─┤ X ├──────░─┤ Ry(0.9) ├┤ Rz(1.2) ├\n",
       "     └─────────┘└─────────┘ ░ └───┘      ░ └─────────┘└─────────┘"
      ]
     },
     "execution_count": 5,
     "metadata": {},
     "output_type": "execute_result"
    }
   ],
   "source": [
    "from qiskit.circuit.library import EfficientSU2\n",
    "circuit = EfficientSU2(num_qubits=3, reps=1, insert_barriers=True)\n",
    "print(circuit.decompose().draw())\n",
    "\n",
    "x = [0.1, 0.2, 0.3, 0.4, 0.5, 0.6, 0.7, 0.8, 0.9, 1.0, 1.1, 1.2]\n",
    "encode = circuit.bind_parameters(x)\n",
    "encode.decompose().draw()"
   ]
  },
  {
   "cell_type": "markdown",
   "metadata": {},
   "source": [
    "### ZZFeatureMap \n",
    "circuit with 3 qubits, only encodes a data point of 3 features, despite having 6 parameterized gates"
   ]
  },
  {
   "cell_type": "code",
   "execution_count": 9,
   "metadata": {},
   "outputs": [
    {
     "name": "stdout",
     "output_type": "stream",
     "text": [
      "     ┌───┐ ░ ┌─────────────┐                                               »\n",
      "q_0: ┤ H ├─░─┤ P(2.0*x[0]) ├──■────────────────────────────────────■────■──»\n",
      "     ├───┤ ░ ├─────────────┤┌─┴─┐┌──────────────────────────────┐┌─┴─┐  │  »\n",
      "q_1: ┤ H ├─░─┤ P(2.0*x[1]) ├┤ X ├┤ P(2.0*(π - x[0])*(π - x[1])) ├┤ X ├──┼──»\n",
      "     ├───┤ ░ ├─────────────┤└───┘└──────────────────────────────┘└───┘┌─┴─┐»\n",
      "q_2: ┤ H ├─░─┤ P(2.0*x[2]) ├──────────────────────────────────────────┤ X ├»\n",
      "     └───┘ ░ └─────────────┘                                          └───┘»\n",
      "«                                               »\n",
      "«q_0: ──────────────────────────────────■───────»\n",
      "«                                       │       »\n",
      "«q_1: ──────────────────────────────────┼────■──»\n",
      "«     ┌──────────────────────────────┐┌─┴─┐┌─┴─┐»\n",
      "«q_2: ┤ P(2.0*(π - x[0])*(π - x[2])) ├┤ X ├┤ X ├»\n",
      "«     └──────────────────────────────┘└───┘└───┘»\n",
      "«                                          \n",
      "«q_0: ─────────────────────────────────────\n",
      "«                                          \n",
      "«q_1: ──────────────────────────────────■──\n",
      "«     ┌──────────────────────────────┐┌─┴─┐\n",
      "«q_2: ┤ P(2.0*(π - x[1])*(π - x[2])) ├┤ X ├\n",
      "«     └──────────────────────────────┘└───┘\n"
     ]
    },
    {
     "data": {
      "text/html": [
       "<pre style=\"word-wrap: normal;white-space: pre;background: #fff0;line-height: 1.1;font-family: &quot;Courier New&quot;,Courier,monospace\">     ┌───┐ ░ ┌────────┐                                                   »\n",
       "q_0: ┤ H ├─░─┤ P(0.2) ├──■─────────────────■────■─────────────────■───────»\n",
       "     ├───┤ ░ ├────────┤┌─┴─┐┌───────────┐┌─┴─┐  │                 │       »\n",
       "q_1: ┤ H ├─░─┤ P(0.4) ├┤ X ├┤ P(17.894) ├┤ X ├──┼─────────────────┼────■──»\n",
       "     ├───┤ ░ ├────────┤└───┘└───────────┘└───┘┌─┴─┐┌───────────┐┌─┴─┐┌─┴─┐»\n",
       "q_2: ┤ H ├─░─┤ P(0.6) ├───────────────────────┤ X ├┤ P(17.286) ├┤ X ├┤ X ├»\n",
       "     └───┘ ░ └────────┘                       └───┘└───────────┘└───┘└───┘»\n",
       "«                       \n",
       "«q_0: ──────────────────\n",
       "«                       \n",
       "«q_1: ───────────────■──\n",
       "«     ┌───────────┐┌─┴─┐\n",
       "«q_2: ┤ P(16.718) ├┤ X ├\n",
       "«     └───────────┘└───┘</pre>"
      ],
      "text/plain": [
       "     ┌───┐ ░ ┌────────┐                                                   »\n",
       "q_0: ┤ H ├─░─┤ P(0.2) ├──■─────────────────■────■─────────────────■───────»\n",
       "     ├───┤ ░ ├────────┤┌─┴─┐┌───────────┐┌─┴─┐  │                 │       »\n",
       "q_1: ┤ H ├─░─┤ P(0.4) ├┤ X ├┤ P(17.894) ├┤ X ├──┼─────────────────┼────■──»\n",
       "     ├───┤ ░ ├────────┤└───┘└───────────┘└───┘┌─┴─┐┌───────────┐┌─┴─┐┌─┴─┐»\n",
       "q_2: ┤ H ├─░─┤ P(0.6) ├───────────────────────┤ X ├┤ P(17.286) ├┤ X ├┤ X ├»\n",
       "     └───┘ ░ └────────┘                       └───┘└───────────┘└───┘└───┘»\n",
       "«                       \n",
       "«q_0: ──────────────────\n",
       "«                       \n",
       "«q_1: ───────────────■──\n",
       "«     ┌───────────┐┌─┴─┐\n",
       "«q_2: ┤ P(16.718) ├┤ X ├\n",
       "«     └───────────┘└───┘"
      ]
     },
     "execution_count": 9,
     "metadata": {},
     "output_type": "execute_result"
    }
   ],
   "source": [
    "from qiskit.circuit.library import ZZFeatureMap\n",
    "circuit = ZZFeatureMap(3, reps=1, insert_barriers=True)\n",
    "print(circuit.decompose().draw())\n",
    "\n",
    "x = [0.1, 0.2, 0.3]\n",
    "encode = circuit.bind_parameters(x)\n",
    "encode.decompose().draw()"
   ]
  }
 ],
 "metadata": {
  "kernelspec": {
   "display_name": "qiskit",
   "language": "python",
   "name": "python3"
  },
  "language_info": {
   "codemirror_mode": {
    "name": "ipython",
    "version": 3
   },
   "file_extension": ".py",
   "mimetype": "text/x-python",
   "name": "python",
   "nbconvert_exporter": "python",
   "pygments_lexer": "ipython3",
   "version": "3.10.12"
  },
  "orig_nbformat": 4
 },
 "nbformat": 4,
 "nbformat_minor": 2
}
