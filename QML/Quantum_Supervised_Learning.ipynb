{
 "cells": [
  {
   "cell_type": "markdown",
   "metadata": {},
   "source": [
    "# Quantum supervised learning \n",
    "\n",
    "Quantum machine learning tutorials : https://qiskit.org/ecosystem/machine-learning/tutorials/ \n",
    "\n",
    "## Variational circuit\n",
    "\n",
    "## Quantum features map and kernels"
   ]
  }
 ],
 "metadata": {
  "kernelspec": {
   "display_name": "qiskit",
   "language": "python",
   "name": "python3"
  },
  "language_info": {
   "name": "python",
   "version": "3.10.12"
  },
  "orig_nbformat": 4
 },
 "nbformat": 4,
 "nbformat_minor": 2
}
